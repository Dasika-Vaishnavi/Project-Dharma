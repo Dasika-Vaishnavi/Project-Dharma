{
  "cells": [
    {
      "cell_type": "markdown",
      "metadata": {
        "id": "view-in-github",
        "colab_type": "text"
      },
      "source": [
        "<a href=\"https://colab.research.google.com/github/Dasika-Vaishnavi/Project-Dharma/blob/main/Vakeel_Saab_ML_Part1.ipynb\" target=\"_parent\"><img src=\"https://colab.research.google.com/assets/colab-badge.svg\" alt=\"Open In Colab\"/></a>"
      ]
    },
    {
      "cell_type": "markdown",
      "metadata": {
        "id": "426e500b"
      },
      "source": [
        "# NLP and Multi-category prediction.\n",
        "https://realpython.com/python-keras-text-classification/"
      ],
      "id": "426e500b"
    },
    {
      "cell_type": "markdown",
      "metadata": {
        "id": "430e50b1"
      },
      "source": [
        "## 1) Data Preprocessing"
      ],
      "id": "430e50b1"
    },
    {
      "cell_type": "code",
      "execution_count": 20,
      "metadata": {
        "id": "fb72d824"
      },
      "outputs": [],
      "source": [
        "import numpy as np \n",
        "import pandas as pd "
      ],
      "id": "fb72d824"
    },
    {
      "cell_type": "code",
      "execution_count": 21,
      "metadata": {
        "id": "188c263d"
      },
      "outputs": [],
      "source": [
        "import matplotlib.pyplot as plt\n",
        "import seaborn as sns\n",
        "from collections import Counter\n",
        "import warnings\n",
        "warnings.filterwarnings(\"ignore\")\n",
        "import csv"
      ],
      "id": "188c263d"
    },
    {
      "cell_type": "code",
      "execution_count": 22,
      "metadata": {
        "colab": {
          "base_uri": "https://localhost:8080/",
          "height": 259
        },
        "id": "95193419",
        "outputId": "344080c6-7ab5-472d-9c26-6237d4f3a6c5"
      },
      "outputs": [
        {
          "output_type": "error",
          "ename": "ParserError",
          "evalue": "ignored",
          "traceback": [
            "\u001b[0;31m---------------------------------------------------------------------------\u001b[0m",
            "\u001b[0;31mParserError\u001b[0m                               Traceback (most recent call last)",
            "\u001b[0;32m<ipython-input-22-3c10e6368f49>\u001b[0m in \u001b[0;36m<module>\u001b[0;34m()\u001b[0m\n\u001b[1;32m      1\u001b[0m \u001b[0mpath\u001b[0m \u001b[0;34m=\u001b[0m \u001b[0;34m'/content/legal_text_classification.csv'\u001b[0m\u001b[0;34m\u001b[0m\u001b[0;34m\u001b[0m\u001b[0m\n\u001b[0;32m----> 2\u001b[0;31m \u001b[0mdf\u001b[0m \u001b[0;34m=\u001b[0m \u001b[0mpd\u001b[0m\u001b[0;34m.\u001b[0m\u001b[0mread_csv\u001b[0m\u001b[0;34m(\u001b[0m\u001b[0mpath\u001b[0m\u001b[0;34m)\u001b[0m\u001b[0;34m\u001b[0m\u001b[0;34m\u001b[0m\u001b[0m\n\u001b[0m\u001b[1;32m      3\u001b[0m \u001b[0mdf\u001b[0m\u001b[0;34m.\u001b[0m\u001b[0mrename\u001b[0m\u001b[0;34m(\u001b[0m\u001b[0mcolumns\u001b[0m\u001b[0;34m=\u001b[0m\u001b[0mdf\u001b[0m\u001b[0;34m.\u001b[0m\u001b[0miloc\u001b[0m\u001b[0;34m[\u001b[0m\u001b[0;36m0\u001b[0m\u001b[0;34m]\u001b[0m\u001b[0;34m)\u001b[0m\u001b[0;34m.\u001b[0m\u001b[0mdrop\u001b[0m\u001b[0;34m(\u001b[0m\u001b[0mdf\u001b[0m\u001b[0;34m.\u001b[0m\u001b[0mindex\u001b[0m\u001b[0;34m[\u001b[0m\u001b[0;36m0\u001b[0m\u001b[0;34m]\u001b[0m\u001b[0;34m)\u001b[0m\u001b[0;34m\u001b[0m\u001b[0;34m\u001b[0m\u001b[0m\n",
            "\u001b[0;32m/usr/local/lib/python3.7/dist-packages/pandas/util/_decorators.py\u001b[0m in \u001b[0;36mwrapper\u001b[0;34m(*args, **kwargs)\u001b[0m\n\u001b[1;32m    309\u001b[0m                     \u001b[0mstacklevel\u001b[0m\u001b[0;34m=\u001b[0m\u001b[0mstacklevel\u001b[0m\u001b[0;34m,\u001b[0m\u001b[0;34m\u001b[0m\u001b[0;34m\u001b[0m\u001b[0m\n\u001b[1;32m    310\u001b[0m                 )\n\u001b[0;32m--> 311\u001b[0;31m             \u001b[0;32mreturn\u001b[0m \u001b[0mfunc\u001b[0m\u001b[0;34m(\u001b[0m\u001b[0;34m*\u001b[0m\u001b[0margs\u001b[0m\u001b[0;34m,\u001b[0m \u001b[0;34m**\u001b[0m\u001b[0mkwargs\u001b[0m\u001b[0;34m)\u001b[0m\u001b[0;34m\u001b[0m\u001b[0;34m\u001b[0m\u001b[0m\n\u001b[0m\u001b[1;32m    312\u001b[0m \u001b[0;34m\u001b[0m\u001b[0m\n\u001b[1;32m    313\u001b[0m         \u001b[0;32mreturn\u001b[0m \u001b[0mwrapper\u001b[0m\u001b[0;34m\u001b[0m\u001b[0;34m\u001b[0m\u001b[0m\n",
            "\u001b[0;32m/usr/local/lib/python3.7/dist-packages/pandas/io/parsers/readers.py\u001b[0m in \u001b[0;36mread_csv\u001b[0;34m(filepath_or_buffer, sep, delimiter, header, names, index_col, usecols, squeeze, prefix, mangle_dupe_cols, dtype, engine, converters, true_values, false_values, skipinitialspace, skiprows, skipfooter, nrows, na_values, keep_default_na, na_filter, verbose, skip_blank_lines, parse_dates, infer_datetime_format, keep_date_col, date_parser, dayfirst, cache_dates, iterator, chunksize, compression, thousands, decimal, lineterminator, quotechar, quoting, doublequote, escapechar, comment, encoding, encoding_errors, dialect, error_bad_lines, warn_bad_lines, on_bad_lines, delim_whitespace, low_memory, memory_map, float_precision, storage_options)\u001b[0m\n\u001b[1;32m    584\u001b[0m     \u001b[0mkwds\u001b[0m\u001b[0;34m.\u001b[0m\u001b[0mupdate\u001b[0m\u001b[0;34m(\u001b[0m\u001b[0mkwds_defaults\u001b[0m\u001b[0;34m)\u001b[0m\u001b[0;34m\u001b[0m\u001b[0;34m\u001b[0m\u001b[0m\n\u001b[1;32m    585\u001b[0m \u001b[0;34m\u001b[0m\u001b[0m\n\u001b[0;32m--> 586\u001b[0;31m     \u001b[0;32mreturn\u001b[0m \u001b[0m_read\u001b[0m\u001b[0;34m(\u001b[0m\u001b[0mfilepath_or_buffer\u001b[0m\u001b[0;34m,\u001b[0m \u001b[0mkwds\u001b[0m\u001b[0;34m)\u001b[0m\u001b[0;34m\u001b[0m\u001b[0;34m\u001b[0m\u001b[0m\n\u001b[0m\u001b[1;32m    587\u001b[0m \u001b[0;34m\u001b[0m\u001b[0m\n\u001b[1;32m    588\u001b[0m \u001b[0;34m\u001b[0m\u001b[0m\n",
            "\u001b[0;32m/usr/local/lib/python3.7/dist-packages/pandas/io/parsers/readers.py\u001b[0m in \u001b[0;36m_read\u001b[0;34m(filepath_or_buffer, kwds)\u001b[0m\n\u001b[1;32m    486\u001b[0m \u001b[0;34m\u001b[0m\u001b[0m\n\u001b[1;32m    487\u001b[0m     \u001b[0;32mwith\u001b[0m \u001b[0mparser\u001b[0m\u001b[0;34m:\u001b[0m\u001b[0;34m\u001b[0m\u001b[0;34m\u001b[0m\u001b[0m\n\u001b[0;32m--> 488\u001b[0;31m         \u001b[0;32mreturn\u001b[0m \u001b[0mparser\u001b[0m\u001b[0;34m.\u001b[0m\u001b[0mread\u001b[0m\u001b[0;34m(\u001b[0m\u001b[0mnrows\u001b[0m\u001b[0;34m)\u001b[0m\u001b[0;34m\u001b[0m\u001b[0;34m\u001b[0m\u001b[0m\n\u001b[0m\u001b[1;32m    489\u001b[0m \u001b[0;34m\u001b[0m\u001b[0m\n\u001b[1;32m    490\u001b[0m \u001b[0;34m\u001b[0m\u001b[0m\n",
            "\u001b[0;32m/usr/local/lib/python3.7/dist-packages/pandas/io/parsers/readers.py\u001b[0m in \u001b[0;36mread\u001b[0;34m(self, nrows)\u001b[0m\n\u001b[1;32m   1045\u001b[0m     \u001b[0;32mdef\u001b[0m \u001b[0mread\u001b[0m\u001b[0;34m(\u001b[0m\u001b[0mself\u001b[0m\u001b[0;34m,\u001b[0m \u001b[0mnrows\u001b[0m\u001b[0;34m=\u001b[0m\u001b[0;32mNone\u001b[0m\u001b[0;34m)\u001b[0m\u001b[0;34m:\u001b[0m\u001b[0;34m\u001b[0m\u001b[0;34m\u001b[0m\u001b[0m\n\u001b[1;32m   1046\u001b[0m         \u001b[0mnrows\u001b[0m \u001b[0;34m=\u001b[0m \u001b[0mvalidate_integer\u001b[0m\u001b[0;34m(\u001b[0m\u001b[0;34m\"nrows\"\u001b[0m\u001b[0;34m,\u001b[0m \u001b[0mnrows\u001b[0m\u001b[0;34m)\u001b[0m\u001b[0;34m\u001b[0m\u001b[0;34m\u001b[0m\u001b[0m\n\u001b[0;32m-> 1047\u001b[0;31m         \u001b[0mindex\u001b[0m\u001b[0;34m,\u001b[0m \u001b[0mcolumns\u001b[0m\u001b[0;34m,\u001b[0m \u001b[0mcol_dict\u001b[0m \u001b[0;34m=\u001b[0m \u001b[0mself\u001b[0m\u001b[0;34m.\u001b[0m\u001b[0m_engine\u001b[0m\u001b[0;34m.\u001b[0m\u001b[0mread\u001b[0m\u001b[0;34m(\u001b[0m\u001b[0mnrows\u001b[0m\u001b[0;34m)\u001b[0m\u001b[0;34m\u001b[0m\u001b[0;34m\u001b[0m\u001b[0m\n\u001b[0m\u001b[1;32m   1048\u001b[0m \u001b[0;34m\u001b[0m\u001b[0m\n\u001b[1;32m   1049\u001b[0m         \u001b[0;32mif\u001b[0m \u001b[0mindex\u001b[0m \u001b[0;32mis\u001b[0m \u001b[0;32mNone\u001b[0m\u001b[0;34m:\u001b[0m\u001b[0;34m\u001b[0m\u001b[0;34m\u001b[0m\u001b[0m\n",
            "\u001b[0;32m/usr/local/lib/python3.7/dist-packages/pandas/io/parsers/c_parser_wrapper.py\u001b[0m in \u001b[0;36mread\u001b[0;34m(self, nrows)\u001b[0m\n\u001b[1;32m    222\u001b[0m         \u001b[0;32mtry\u001b[0m\u001b[0;34m:\u001b[0m\u001b[0;34m\u001b[0m\u001b[0;34m\u001b[0m\u001b[0m\n\u001b[1;32m    223\u001b[0m             \u001b[0;32mif\u001b[0m \u001b[0mself\u001b[0m\u001b[0;34m.\u001b[0m\u001b[0mlow_memory\u001b[0m\u001b[0;34m:\u001b[0m\u001b[0;34m\u001b[0m\u001b[0;34m\u001b[0m\u001b[0m\n\u001b[0;32m--> 224\u001b[0;31m                 \u001b[0mchunks\u001b[0m \u001b[0;34m=\u001b[0m \u001b[0mself\u001b[0m\u001b[0;34m.\u001b[0m\u001b[0m_reader\u001b[0m\u001b[0;34m.\u001b[0m\u001b[0mread_low_memory\u001b[0m\u001b[0;34m(\u001b[0m\u001b[0mnrows\u001b[0m\u001b[0;34m)\u001b[0m\u001b[0;34m\u001b[0m\u001b[0;34m\u001b[0m\u001b[0m\n\u001b[0m\u001b[1;32m    225\u001b[0m                 \u001b[0;31m# destructive to chunks\u001b[0m\u001b[0;34m\u001b[0m\u001b[0;34m\u001b[0m\u001b[0;34m\u001b[0m\u001b[0m\n\u001b[1;32m    226\u001b[0m                 \u001b[0mdata\u001b[0m \u001b[0;34m=\u001b[0m \u001b[0m_concatenate_chunks\u001b[0m\u001b[0;34m(\u001b[0m\u001b[0mchunks\u001b[0m\u001b[0;34m)\u001b[0m\u001b[0;34m\u001b[0m\u001b[0;34m\u001b[0m\u001b[0m\n",
            "\u001b[0;32m/usr/local/lib/python3.7/dist-packages/pandas/_libs/parsers.pyx\u001b[0m in \u001b[0;36mpandas._libs.parsers.TextReader.read_low_memory\u001b[0;34m()\u001b[0m\n",
            "\u001b[0;32m/usr/local/lib/python3.7/dist-packages/pandas/_libs/parsers.pyx\u001b[0m in \u001b[0;36mpandas._libs.parsers.TextReader._read_rows\u001b[0;34m()\u001b[0m\n",
            "\u001b[0;32m/usr/local/lib/python3.7/dist-packages/pandas/_libs/parsers.pyx\u001b[0m in \u001b[0;36mpandas._libs.parsers.TextReader._tokenize_rows\u001b[0;34m()\u001b[0m\n",
            "\u001b[0;32m/usr/local/lib/python3.7/dist-packages/pandas/_libs/parsers.pyx\u001b[0m in \u001b[0;36mpandas._libs.parsers.raise_parser_error\u001b[0;34m()\u001b[0m\n",
            "\u001b[0;31mParserError\u001b[0m: Error tokenizing data. C error: Expected 4 fields in line 1030, saw 266\n"
          ]
        }
      ],
      "source": [
        "path = '/content/legal_text_classification.csv'\n",
        "df = pd.read_csv(path)\n",
        "df.rename(columns=df.iloc[0]).drop(df.index[0])"
      ],
      "id": "95193419"
    },
    {
      "cell_type": "code",
      "source": [
        "df"
      ],
      "metadata": {
        "id": "1_3rMfkE1s68",
        "outputId": "45683530-7646-4403-d73b-1edb549b85c1",
        "colab": {
          "base_uri": "https://localhost:8080/",
          "height": 424
        }
      },
      "id": "1_3rMfkE1s68",
      "execution_count": 26,
      "outputs": [
        {
          "output_type": "execute_result",
          "data": {
            "text/plain": [
              "      case_id case_outcome                                         case_title  \\\n",
              "0       Case1        cited  Alpine Hardwood (Aust) Pty Ltd v Hardys Pty Lt...   \n",
              "1       Case2        cited  Black v Lipovac [1998] FCA 699 ; (1998) 217 AL...   \n",
              "2       Case3        cited  Colgate Palmolive Co v Cussons Pty Ltd (1993) ...   \n",
              "3       Case4        cited  Dais Studio Pty Ltd v Bullett Creative Pty Ltd...   \n",
              "4       Case5        cited  Dr Martens Australia Pty Ltd v Figgins Holding...   \n",
              "..        ...          ...                                                ...   \n",
              "993  Case1012  referred to          R v Dudley and Stephens (1884) 14 QBD 273   \n",
              "994  Case1013  referred to                         R v Loughnan [1981] VR 443   \n",
              "995  Case1014   considered  R v Oblach [2005] NSWCCA 440 ; (2005) 65 NSWLR 75   \n",
              "996  Case1015  referred to       Re Centennial Coal Co Ltd (2006) 226 ALR 341   \n",
              "997  Case1016  referred to                      Re Director of Public Prosecu   \n",
              "\n",
              "                                             case_text  \n",
              "0    Ordinarily that discretion will be exercised s...  \n",
              "1    The general principles governing the exercise ...  \n",
              "2    Ordinarily that discretion will be exercised s...  \n",
              "3    The general principles governing the exercise ...  \n",
              "4    The preceding general principles inform the ex...  \n",
              "..                                                 ...  \n",
              "993  can be no doubt that the Criminal Code was int...  \n",
              "994  common law defence of necessity, from which th...  \n",
              "995  can be no doubt that the Criminal Code was int...  \n",
              "996  meaning of the word 'contravention' is critica...  \n",
              "997                                                NaN  \n",
              "\n",
              "[998 rows x 4 columns]"
            ],
            "text/html": [
              "\n",
              "  <div id=\"df-ddefeaa7-45ca-4e78-941a-6d2db09d9450\">\n",
              "    <div class=\"colab-df-container\">\n",
              "      <div>\n",
              "<style scoped>\n",
              "    .dataframe tbody tr th:only-of-type {\n",
              "        vertical-align: middle;\n",
              "    }\n",
              "\n",
              "    .dataframe tbody tr th {\n",
              "        vertical-align: top;\n",
              "    }\n",
              "\n",
              "    .dataframe thead th {\n",
              "        text-align: right;\n",
              "    }\n",
              "</style>\n",
              "<table border=\"1\" class=\"dataframe\">\n",
              "  <thead>\n",
              "    <tr style=\"text-align: right;\">\n",
              "      <th></th>\n",
              "      <th>case_id</th>\n",
              "      <th>case_outcome</th>\n",
              "      <th>case_title</th>\n",
              "      <th>case_text</th>\n",
              "    </tr>\n",
              "  </thead>\n",
              "  <tbody>\n",
              "    <tr>\n",
              "      <th>0</th>\n",
              "      <td>Case1</td>\n",
              "      <td>cited</td>\n",
              "      <td>Alpine Hardwood (Aust) Pty Ltd v Hardys Pty Lt...</td>\n",
              "      <td>Ordinarily that discretion will be exercised s...</td>\n",
              "    </tr>\n",
              "    <tr>\n",
              "      <th>1</th>\n",
              "      <td>Case2</td>\n",
              "      <td>cited</td>\n",
              "      <td>Black v Lipovac [1998] FCA 699 ; (1998) 217 AL...</td>\n",
              "      <td>The general principles governing the exercise ...</td>\n",
              "    </tr>\n",
              "    <tr>\n",
              "      <th>2</th>\n",
              "      <td>Case3</td>\n",
              "      <td>cited</td>\n",
              "      <td>Colgate Palmolive Co v Cussons Pty Ltd (1993) ...</td>\n",
              "      <td>Ordinarily that discretion will be exercised s...</td>\n",
              "    </tr>\n",
              "    <tr>\n",
              "      <th>3</th>\n",
              "      <td>Case4</td>\n",
              "      <td>cited</td>\n",
              "      <td>Dais Studio Pty Ltd v Bullett Creative Pty Ltd...</td>\n",
              "      <td>The general principles governing the exercise ...</td>\n",
              "    </tr>\n",
              "    <tr>\n",
              "      <th>4</th>\n",
              "      <td>Case5</td>\n",
              "      <td>cited</td>\n",
              "      <td>Dr Martens Australia Pty Ltd v Figgins Holding...</td>\n",
              "      <td>The preceding general principles inform the ex...</td>\n",
              "    </tr>\n",
              "    <tr>\n",
              "      <th>...</th>\n",
              "      <td>...</td>\n",
              "      <td>...</td>\n",
              "      <td>...</td>\n",
              "      <td>...</td>\n",
              "    </tr>\n",
              "    <tr>\n",
              "      <th>993</th>\n",
              "      <td>Case1012</td>\n",
              "      <td>referred to</td>\n",
              "      <td>R v Dudley and Stephens (1884) 14 QBD 273</td>\n",
              "      <td>can be no doubt that the Criminal Code was int...</td>\n",
              "    </tr>\n",
              "    <tr>\n",
              "      <th>994</th>\n",
              "      <td>Case1013</td>\n",
              "      <td>referred to</td>\n",
              "      <td>R v Loughnan [1981] VR 443</td>\n",
              "      <td>common law defence of necessity, from which th...</td>\n",
              "    </tr>\n",
              "    <tr>\n",
              "      <th>995</th>\n",
              "      <td>Case1014</td>\n",
              "      <td>considered</td>\n",
              "      <td>R v Oblach [2005] NSWCCA 440 ; (2005) 65 NSWLR 75</td>\n",
              "      <td>can be no doubt that the Criminal Code was int...</td>\n",
              "    </tr>\n",
              "    <tr>\n",
              "      <th>996</th>\n",
              "      <td>Case1015</td>\n",
              "      <td>referred to</td>\n",
              "      <td>Re Centennial Coal Co Ltd (2006) 226 ALR 341</td>\n",
              "      <td>meaning of the word 'contravention' is critica...</td>\n",
              "    </tr>\n",
              "    <tr>\n",
              "      <th>997</th>\n",
              "      <td>Case1016</td>\n",
              "      <td>referred to</td>\n",
              "      <td>Re Director of Public Prosecu</td>\n",
              "      <td>NaN</td>\n",
              "    </tr>\n",
              "  </tbody>\n",
              "</table>\n",
              "<p>998 rows × 4 columns</p>\n",
              "</div>\n",
              "      <button class=\"colab-df-convert\" onclick=\"convertToInteractive('df-ddefeaa7-45ca-4e78-941a-6d2db09d9450')\"\n",
              "              title=\"Convert this dataframe to an interactive table.\"\n",
              "              style=\"display:none;\">\n",
              "        \n",
              "  <svg xmlns=\"http://www.w3.org/2000/svg\" height=\"24px\"viewBox=\"0 0 24 24\"\n",
              "       width=\"24px\">\n",
              "    <path d=\"M0 0h24v24H0V0z\" fill=\"none\"/>\n",
              "    <path d=\"M18.56 5.44l.94 2.06.94-2.06 2.06-.94-2.06-.94-.94-2.06-.94 2.06-2.06.94zm-11 1L8.5 8.5l.94-2.06 2.06-.94-2.06-.94L8.5 2.5l-.94 2.06-2.06.94zm10 10l.94 2.06.94-2.06 2.06-.94-2.06-.94-.94-2.06-.94 2.06-2.06.94z\"/><path d=\"M17.41 7.96l-1.37-1.37c-.4-.4-.92-.59-1.43-.59-.52 0-1.04.2-1.43.59L10.3 9.45l-7.72 7.72c-.78.78-.78 2.05 0 2.83L4 21.41c.39.39.9.59 1.41.59.51 0 1.02-.2 1.41-.59l7.78-7.78 2.81-2.81c.8-.78.8-2.07 0-2.86zM5.41 20L4 18.59l7.72-7.72 1.47 1.35L5.41 20z\"/>\n",
              "  </svg>\n",
              "      </button>\n",
              "      \n",
              "  <style>\n",
              "    .colab-df-container {\n",
              "      display:flex;\n",
              "      flex-wrap:wrap;\n",
              "      gap: 12px;\n",
              "    }\n",
              "\n",
              "    .colab-df-convert {\n",
              "      background-color: #E8F0FE;\n",
              "      border: none;\n",
              "      border-radius: 50%;\n",
              "      cursor: pointer;\n",
              "      display: none;\n",
              "      fill: #1967D2;\n",
              "      height: 32px;\n",
              "      padding: 0 0 0 0;\n",
              "      width: 32px;\n",
              "    }\n",
              "\n",
              "    .colab-df-convert:hover {\n",
              "      background-color: #E2EBFA;\n",
              "      box-shadow: 0px 1px 2px rgba(60, 64, 67, 0.3), 0px 1px 3px 1px rgba(60, 64, 67, 0.15);\n",
              "      fill: #174EA6;\n",
              "    }\n",
              "\n",
              "    [theme=dark] .colab-df-convert {\n",
              "      background-color: #3B4455;\n",
              "      fill: #D2E3FC;\n",
              "    }\n",
              "\n",
              "    [theme=dark] .colab-df-convert:hover {\n",
              "      background-color: #434B5C;\n",
              "      box-shadow: 0px 1px 3px 1px rgba(0, 0, 0, 0.15);\n",
              "      filter: drop-shadow(0px 1px 2px rgba(0, 0, 0, 0.3));\n",
              "      fill: #FFFFFF;\n",
              "    }\n",
              "  </style>\n",
              "\n",
              "      <script>\n",
              "        const buttonEl =\n",
              "          document.querySelector('#df-ddefeaa7-45ca-4e78-941a-6d2db09d9450 button.colab-df-convert');\n",
              "        buttonEl.style.display =\n",
              "          google.colab.kernel.accessAllowed ? 'block' : 'none';\n",
              "\n",
              "        async function convertToInteractive(key) {\n",
              "          const element = document.querySelector('#df-ddefeaa7-45ca-4e78-941a-6d2db09d9450');\n",
              "          const dataTable =\n",
              "            await google.colab.kernel.invokeFunction('convertToInteractive',\n",
              "                                                     [key], {});\n",
              "          if (!dataTable) return;\n",
              "\n",
              "          const docLinkHtml = 'Like what you see? Visit the ' +\n",
              "            '<a target=\"_blank\" href=https://colab.research.google.com/notebooks/data_table.ipynb>data table notebook</a>'\n",
              "            + ' to learn more about interactive tables.';\n",
              "          element.innerHTML = '';\n",
              "          dataTable['output_type'] = 'display_data';\n",
              "          await google.colab.output.renderOutput(dataTable, element);\n",
              "          const docLink = document.createElement('div');\n",
              "          docLink.innerHTML = docLinkHtml;\n",
              "          element.appendChild(docLink);\n",
              "        }\n",
              "      </script>\n",
              "    </div>\n",
              "  </div>\n",
              "  "
            ]
          },
          "metadata": {},
          "execution_count": 26
        }
      ]
    },
    {
      "cell_type": "code",
      "execution_count": 23,
      "metadata": {
        "id": "7ccbcd77",
        "colab": {
          "base_uri": "https://localhost:8080/",
          "height": 206
        },
        "outputId": "6e2e7e87-e5bf-4839-dfcd-2e34550dd373"
      },
      "outputs": [
        {
          "output_type": "execute_result",
          "data": {
            "text/plain": [
              "  case_id case_outcome                                         case_title  \\\n",
              "0   Case1        cited  Alpine Hardwood (Aust) Pty Ltd v Hardys Pty Lt...   \n",
              "1   Case2        cited  Black v Lipovac [1998] FCA 699 ; (1998) 217 AL...   \n",
              "2   Case3        cited  Colgate Palmolive Co v Cussons Pty Ltd (1993) ...   \n",
              "3   Case4        cited  Dais Studio Pty Ltd v Bullett Creative Pty Ltd...   \n",
              "4   Case5        cited  Dr Martens Australia Pty Ltd v Figgins Holding...   \n",
              "\n",
              "                                           case_text  \n",
              "0  Ordinarily that discretion will be exercised s...  \n",
              "1  The general principles governing the exercise ...  \n",
              "2  Ordinarily that discretion will be exercised s...  \n",
              "3  The general principles governing the exercise ...  \n",
              "4  The preceding general principles inform the ex...  "
            ],
            "text/html": [
              "\n",
              "  <div id=\"df-9e7f4f6c-09ba-44c5-9a45-7b887e131da5\">\n",
              "    <div class=\"colab-df-container\">\n",
              "      <div>\n",
              "<style scoped>\n",
              "    .dataframe tbody tr th:only-of-type {\n",
              "        vertical-align: middle;\n",
              "    }\n",
              "\n",
              "    .dataframe tbody tr th {\n",
              "        vertical-align: top;\n",
              "    }\n",
              "\n",
              "    .dataframe thead th {\n",
              "        text-align: right;\n",
              "    }\n",
              "</style>\n",
              "<table border=\"1\" class=\"dataframe\">\n",
              "  <thead>\n",
              "    <tr style=\"text-align: right;\">\n",
              "      <th></th>\n",
              "      <th>case_id</th>\n",
              "      <th>case_outcome</th>\n",
              "      <th>case_title</th>\n",
              "      <th>case_text</th>\n",
              "    </tr>\n",
              "  </thead>\n",
              "  <tbody>\n",
              "    <tr>\n",
              "      <th>0</th>\n",
              "      <td>Case1</td>\n",
              "      <td>cited</td>\n",
              "      <td>Alpine Hardwood (Aust) Pty Ltd v Hardys Pty Lt...</td>\n",
              "      <td>Ordinarily that discretion will be exercised s...</td>\n",
              "    </tr>\n",
              "    <tr>\n",
              "      <th>1</th>\n",
              "      <td>Case2</td>\n",
              "      <td>cited</td>\n",
              "      <td>Black v Lipovac [1998] FCA 699 ; (1998) 217 AL...</td>\n",
              "      <td>The general principles governing the exercise ...</td>\n",
              "    </tr>\n",
              "    <tr>\n",
              "      <th>2</th>\n",
              "      <td>Case3</td>\n",
              "      <td>cited</td>\n",
              "      <td>Colgate Palmolive Co v Cussons Pty Ltd (1993) ...</td>\n",
              "      <td>Ordinarily that discretion will be exercised s...</td>\n",
              "    </tr>\n",
              "    <tr>\n",
              "      <th>3</th>\n",
              "      <td>Case4</td>\n",
              "      <td>cited</td>\n",
              "      <td>Dais Studio Pty Ltd v Bullett Creative Pty Ltd...</td>\n",
              "      <td>The general principles governing the exercise ...</td>\n",
              "    </tr>\n",
              "    <tr>\n",
              "      <th>4</th>\n",
              "      <td>Case5</td>\n",
              "      <td>cited</td>\n",
              "      <td>Dr Martens Australia Pty Ltd v Figgins Holding...</td>\n",
              "      <td>The preceding general principles inform the ex...</td>\n",
              "    </tr>\n",
              "  </tbody>\n",
              "</table>\n",
              "</div>\n",
              "      <button class=\"colab-df-convert\" onclick=\"convertToInteractive('df-9e7f4f6c-09ba-44c5-9a45-7b887e131da5')\"\n",
              "              title=\"Convert this dataframe to an interactive table.\"\n",
              "              style=\"display:none;\">\n",
              "        \n",
              "  <svg xmlns=\"http://www.w3.org/2000/svg\" height=\"24px\"viewBox=\"0 0 24 24\"\n",
              "       width=\"24px\">\n",
              "    <path d=\"M0 0h24v24H0V0z\" fill=\"none\"/>\n",
              "    <path d=\"M18.56 5.44l.94 2.06.94-2.06 2.06-.94-2.06-.94-.94-2.06-.94 2.06-2.06.94zm-11 1L8.5 8.5l.94-2.06 2.06-.94-2.06-.94L8.5 2.5l-.94 2.06-2.06.94zm10 10l.94 2.06.94-2.06 2.06-.94-2.06-.94-.94-2.06-.94 2.06-2.06.94z\"/><path d=\"M17.41 7.96l-1.37-1.37c-.4-.4-.92-.59-1.43-.59-.52 0-1.04.2-1.43.59L10.3 9.45l-7.72 7.72c-.78.78-.78 2.05 0 2.83L4 21.41c.39.39.9.59 1.41.59.51 0 1.02-.2 1.41-.59l7.78-7.78 2.81-2.81c.8-.78.8-2.07 0-2.86zM5.41 20L4 18.59l7.72-7.72 1.47 1.35L5.41 20z\"/>\n",
              "  </svg>\n",
              "      </button>\n",
              "      \n",
              "  <style>\n",
              "    .colab-df-container {\n",
              "      display:flex;\n",
              "      flex-wrap:wrap;\n",
              "      gap: 12px;\n",
              "    }\n",
              "\n",
              "    .colab-df-convert {\n",
              "      background-color: #E8F0FE;\n",
              "      border: none;\n",
              "      border-radius: 50%;\n",
              "      cursor: pointer;\n",
              "      display: none;\n",
              "      fill: #1967D2;\n",
              "      height: 32px;\n",
              "      padding: 0 0 0 0;\n",
              "      width: 32px;\n",
              "    }\n",
              "\n",
              "    .colab-df-convert:hover {\n",
              "      background-color: #E2EBFA;\n",
              "      box-shadow: 0px 1px 2px rgba(60, 64, 67, 0.3), 0px 1px 3px 1px rgba(60, 64, 67, 0.15);\n",
              "      fill: #174EA6;\n",
              "    }\n",
              "\n",
              "    [theme=dark] .colab-df-convert {\n",
              "      background-color: #3B4455;\n",
              "      fill: #D2E3FC;\n",
              "    }\n",
              "\n",
              "    [theme=dark] .colab-df-convert:hover {\n",
              "      background-color: #434B5C;\n",
              "      box-shadow: 0px 1px 3px 1px rgba(0, 0, 0, 0.15);\n",
              "      filter: drop-shadow(0px 1px 2px rgba(0, 0, 0, 0.3));\n",
              "      fill: #FFFFFF;\n",
              "    }\n",
              "  </style>\n",
              "\n",
              "      <script>\n",
              "        const buttonEl =\n",
              "          document.querySelector('#df-9e7f4f6c-09ba-44c5-9a45-7b887e131da5 button.colab-df-convert');\n",
              "        buttonEl.style.display =\n",
              "          google.colab.kernel.accessAllowed ? 'block' : 'none';\n",
              "\n",
              "        async function convertToInteractive(key) {\n",
              "          const element = document.querySelector('#df-9e7f4f6c-09ba-44c5-9a45-7b887e131da5');\n",
              "          const dataTable =\n",
              "            await google.colab.kernel.invokeFunction('convertToInteractive',\n",
              "                                                     [key], {});\n",
              "          if (!dataTable) return;\n",
              "\n",
              "          const docLinkHtml = 'Like what you see? Visit the ' +\n",
              "            '<a target=\"_blank\" href=https://colab.research.google.com/notebooks/data_table.ipynb>data table notebook</a>'\n",
              "            + ' to learn more about interactive tables.';\n",
              "          element.innerHTML = '';\n",
              "          dataTable['output_type'] = 'display_data';\n",
              "          await google.colab.output.renderOutput(dataTable, element);\n",
              "          const docLink = document.createElement('div');\n",
              "          docLink.innerHTML = docLinkHtml;\n",
              "          element.appendChild(docLink);\n",
              "        }\n",
              "      </script>\n",
              "    </div>\n",
              "  </div>\n",
              "  "
            ]
          },
          "metadata": {},
          "execution_count": 23
        }
      ],
      "source": [
        "df.head()"
      ],
      "id": "7ccbcd77"
    },
    {
      "cell_type": "code",
      "execution_count": 24,
      "metadata": {
        "id": "60697265",
        "colab": {
          "base_uri": "https://localhost:8080/"
        },
        "outputId": "d740212b-f9b8-466c-e5e1-28f233b864db"
      },
      "outputs": [
        {
          "output_type": "stream",
          "name": "stdout",
          "text": [
            "<class 'pandas.core.frame.DataFrame'>\n",
            "RangeIndex: 998 entries, 0 to 997\n",
            "Data columns (total 4 columns):\n",
            " #   Column        Non-Null Count  Dtype \n",
            "---  ------        --------------  ----- \n",
            " 0   case_id       998 non-null    object\n",
            " 1   case_outcome  998 non-null    object\n",
            " 2   case_title    998 non-null    object\n",
            " 3   case_text     994 non-null    object\n",
            "dtypes: object(4)\n",
            "memory usage: 31.3+ KB\n"
          ]
        }
      ],
      "source": [
        "df.rename(columns=df.iloc[0]).drop(df.index[0])\n",
        "df.info()"
      ],
      "id": "60697265"
    },
    {
      "cell_type": "code",
      "execution_count": 25,
      "metadata": {
        "id": "EyBC7Neci8bd",
        "colab": {
          "base_uri": "https://localhost:8080/",
          "height": 206
        },
        "outputId": "ded1df2e-8ad8-4abe-e5b8-100bb498e4bc"
      },
      "outputs": [
        {
          "output_type": "execute_result",
          "data": {
            "text/plain": [
              "  case_id case_outcome                                         case_title  \\\n",
              "0   Case1        cited  Alpine Hardwood (Aust) Pty Ltd v Hardys Pty Lt...   \n",
              "1   Case2        cited  Black v Lipovac [1998] FCA 699 ; (1998) 217 AL...   \n",
              "2   Case3        cited  Colgate Palmolive Co v Cussons Pty Ltd (1993) ...   \n",
              "3   Case4        cited  Dais Studio Pty Ltd v Bullett Creative Pty Ltd...   \n",
              "4   Case5        cited  Dr Martens Australia Pty Ltd v Figgins Holding...   \n",
              "\n",
              "                                           case_text  \n",
              "0  Ordinarily that discretion will be exercised s...  \n",
              "1  The general principles governing the exercise ...  \n",
              "2  Ordinarily that discretion will be exercised s...  \n",
              "3  The general principles governing the exercise ...  \n",
              "4  The preceding general principles inform the ex...  "
            ],
            "text/html": [
              "\n",
              "  <div id=\"df-216bdf26-31e7-40d8-8022-15703a4f782c\">\n",
              "    <div class=\"colab-df-container\">\n",
              "      <div>\n",
              "<style scoped>\n",
              "    .dataframe tbody tr th:only-of-type {\n",
              "        vertical-align: middle;\n",
              "    }\n",
              "\n",
              "    .dataframe tbody tr th {\n",
              "        vertical-align: top;\n",
              "    }\n",
              "\n",
              "    .dataframe thead th {\n",
              "        text-align: right;\n",
              "    }\n",
              "</style>\n",
              "<table border=\"1\" class=\"dataframe\">\n",
              "  <thead>\n",
              "    <tr style=\"text-align: right;\">\n",
              "      <th></th>\n",
              "      <th>case_id</th>\n",
              "      <th>case_outcome</th>\n",
              "      <th>case_title</th>\n",
              "      <th>case_text</th>\n",
              "    </tr>\n",
              "  </thead>\n",
              "  <tbody>\n",
              "    <tr>\n",
              "      <th>0</th>\n",
              "      <td>Case1</td>\n",
              "      <td>cited</td>\n",
              "      <td>Alpine Hardwood (Aust) Pty Ltd v Hardys Pty Lt...</td>\n",
              "      <td>Ordinarily that discretion will be exercised s...</td>\n",
              "    </tr>\n",
              "    <tr>\n",
              "      <th>1</th>\n",
              "      <td>Case2</td>\n",
              "      <td>cited</td>\n",
              "      <td>Black v Lipovac [1998] FCA 699 ; (1998) 217 AL...</td>\n",
              "      <td>The general principles governing the exercise ...</td>\n",
              "    </tr>\n",
              "    <tr>\n",
              "      <th>2</th>\n",
              "      <td>Case3</td>\n",
              "      <td>cited</td>\n",
              "      <td>Colgate Palmolive Co v Cussons Pty Ltd (1993) ...</td>\n",
              "      <td>Ordinarily that discretion will be exercised s...</td>\n",
              "    </tr>\n",
              "    <tr>\n",
              "      <th>3</th>\n",
              "      <td>Case4</td>\n",
              "      <td>cited</td>\n",
              "      <td>Dais Studio Pty Ltd v Bullett Creative Pty Ltd...</td>\n",
              "      <td>The general principles governing the exercise ...</td>\n",
              "    </tr>\n",
              "    <tr>\n",
              "      <th>4</th>\n",
              "      <td>Case5</td>\n",
              "      <td>cited</td>\n",
              "      <td>Dr Martens Australia Pty Ltd v Figgins Holding...</td>\n",
              "      <td>The preceding general principles inform the ex...</td>\n",
              "    </tr>\n",
              "  </tbody>\n",
              "</table>\n",
              "</div>\n",
              "      <button class=\"colab-df-convert\" onclick=\"convertToInteractive('df-216bdf26-31e7-40d8-8022-15703a4f782c')\"\n",
              "              title=\"Convert this dataframe to an interactive table.\"\n",
              "              style=\"display:none;\">\n",
              "        \n",
              "  <svg xmlns=\"http://www.w3.org/2000/svg\" height=\"24px\"viewBox=\"0 0 24 24\"\n",
              "       width=\"24px\">\n",
              "    <path d=\"M0 0h24v24H0V0z\" fill=\"none\"/>\n",
              "    <path d=\"M18.56 5.44l.94 2.06.94-2.06 2.06-.94-2.06-.94-.94-2.06-.94 2.06-2.06.94zm-11 1L8.5 8.5l.94-2.06 2.06-.94-2.06-.94L8.5 2.5l-.94 2.06-2.06.94zm10 10l.94 2.06.94-2.06 2.06-.94-2.06-.94-.94-2.06-.94 2.06-2.06.94z\"/><path d=\"M17.41 7.96l-1.37-1.37c-.4-.4-.92-.59-1.43-.59-.52 0-1.04.2-1.43.59L10.3 9.45l-7.72 7.72c-.78.78-.78 2.05 0 2.83L4 21.41c.39.39.9.59 1.41.59.51 0 1.02-.2 1.41-.59l7.78-7.78 2.81-2.81c.8-.78.8-2.07 0-2.86zM5.41 20L4 18.59l7.72-7.72 1.47 1.35L5.41 20z\"/>\n",
              "  </svg>\n",
              "      </button>\n",
              "      \n",
              "  <style>\n",
              "    .colab-df-container {\n",
              "      display:flex;\n",
              "      flex-wrap:wrap;\n",
              "      gap: 12px;\n",
              "    }\n",
              "\n",
              "    .colab-df-convert {\n",
              "      background-color: #E8F0FE;\n",
              "      border: none;\n",
              "      border-radius: 50%;\n",
              "      cursor: pointer;\n",
              "      display: none;\n",
              "      fill: #1967D2;\n",
              "      height: 32px;\n",
              "      padding: 0 0 0 0;\n",
              "      width: 32px;\n",
              "    }\n",
              "\n",
              "    .colab-df-convert:hover {\n",
              "      background-color: #E2EBFA;\n",
              "      box-shadow: 0px 1px 2px rgba(60, 64, 67, 0.3), 0px 1px 3px 1px rgba(60, 64, 67, 0.15);\n",
              "      fill: #174EA6;\n",
              "    }\n",
              "\n",
              "    [theme=dark] .colab-df-convert {\n",
              "      background-color: #3B4455;\n",
              "      fill: #D2E3FC;\n",
              "    }\n",
              "\n",
              "    [theme=dark] .colab-df-convert:hover {\n",
              "      background-color: #434B5C;\n",
              "      box-shadow: 0px 1px 3px 1px rgba(0, 0, 0, 0.15);\n",
              "      filter: drop-shadow(0px 1px 2px rgba(0, 0, 0, 0.3));\n",
              "      fill: #FFFFFF;\n",
              "    }\n",
              "  </style>\n",
              "\n",
              "      <script>\n",
              "        const buttonEl =\n",
              "          document.querySelector('#df-216bdf26-31e7-40d8-8022-15703a4f782c button.colab-df-convert');\n",
              "        buttonEl.style.display =\n",
              "          google.colab.kernel.accessAllowed ? 'block' : 'none';\n",
              "\n",
              "        async function convertToInteractive(key) {\n",
              "          const element = document.querySelector('#df-216bdf26-31e7-40d8-8022-15703a4f782c');\n",
              "          const dataTable =\n",
              "            await google.colab.kernel.invokeFunction('convertToInteractive',\n",
              "                                                     [key], {});\n",
              "          if (!dataTable) return;\n",
              "\n",
              "          const docLinkHtml = 'Like what you see? Visit the ' +\n",
              "            '<a target=\"_blank\" href=https://colab.research.google.com/notebooks/data_table.ipynb>data table notebook</a>'\n",
              "            + ' to learn more about interactive tables.';\n",
              "          element.innerHTML = '';\n",
              "          dataTable['output_type'] = 'display_data';\n",
              "          await google.colab.output.renderOutput(dataTable, element);\n",
              "          const docLink = document.createElement('div');\n",
              "          docLink.innerHTML = docLinkHtml;\n",
              "          element.appendChild(docLink);\n",
              "        }\n",
              "      </script>\n",
              "    </div>\n",
              "  </div>\n",
              "  "
            ]
          },
          "metadata": {},
          "execution_count": 25
        }
      ],
      "source": [
        "df.head()"
      ],
      "id": "EyBC7Neci8bd"
    },
    {
      "cell_type": "code",
      "execution_count": 27,
      "metadata": {
        "id": "ee808b92",
        "colab": {
          "base_uri": "https://localhost:8080/"
        },
        "outputId": "fd5b7689-293a-45ba-b177-f1fbdfe9f229"
      },
      "outputs": [
        {
          "output_type": "execute_result",
          "data": {
            "text/plain": [
              "case_id         0\n",
              "case_outcome    0\n",
              "case_title      0\n",
              "case_text       4\n",
              "dtype: int64"
            ]
          },
          "metadata": {},
          "execution_count": 27
        }
      ],
      "source": [
        "df.isnull().sum()"
      ],
      "id": "ee808b92"
    },
    {
      "cell_type": "code",
      "execution_count": 28,
      "metadata": {
        "id": "96c26f9b",
        "colab": {
          "base_uri": "https://localhost:8080/"
        },
        "outputId": "ad6fd175-953f-4a32-cc2a-e26dfecd88d6"
      },
      "outputs": [
        {
          "output_type": "execute_result",
          "data": {
            "text/plain": [
              "array(['cited', 'applied', 'followed', 'referred to', 'related',\n",
              "       'considered', 'discussed', 'distinguished', 'affirmed'],\n",
              "      dtype=object)"
            ]
          },
          "metadata": {},
          "execution_count": 28
        }
      ],
      "source": [
        "df['case_outcome'].unique()"
      ],
      "id": "96c26f9b"
    },
    {
      "cell_type": "code",
      "execution_count": 29,
      "metadata": {
        "id": "46210428",
        "outputId": "eaad9803-7092-4f26-92fb-c98a40201cd0",
        "colab": {
          "base_uri": "https://localhost:8080/",
          "height": 354
        }
      },
      "outputs": [
        {
          "output_type": "execute_result",
          "data": {
            "text/plain": [
              "<matplotlib.axes._subplots.AxesSubplot at 0x7f9f5c2cb190>"
            ]
          },
          "metadata": {},
          "execution_count": 29
        },
        {
          "output_type": "display_data",
          "data": {
            "text/plain": [
              "<Figure size 432x288 with 1 Axes>"
            ],
            "image/png": "[encoded data removed]"
          },
          "metadata": {
            "needs_background": "light"
          }
        }
      ],
      "source": [
        "df.groupby('case_outcome')['case_id'].count().plot.bar()"
      ],
      "id": "46210428"
    },
    {
      "cell_type": "code",
      "execution_count": 30,
      "metadata": {
        "id": "d30d9b5c"
      },
      "outputs": [],
      "source": [
        "df=df.dropna(how='any')"
      ],
      "id": "d30d9b5c"
    },
    {
      "cell_type": "code",
      "execution_count": 31,
      "metadata": {
        "id": "4ef8af63",
        "outputId": "921a121d-5880-4a88-8cb5-456f5125d33d",
        "colab": {
          "base_uri": "https://localhost:8080/",
          "height": 424
        }
      },
      "outputs": [
        {
          "output_type": "execute_result",
          "data": {
            "text/plain": [
              "      case_id case_outcome                                         case_title  \\\n",
              "0       Case1        cited  Alpine Hardwood (Aust) Pty Ltd v Hardys Pty Lt...   \n",
              "1       Case2        cited  Black v Lipovac [1998] FCA 699 ; (1998) 217 AL...   \n",
              "2       Case3        cited  Colgate Palmolive Co v Cussons Pty Ltd (1993) ...   \n",
              "3       Case4        cited  Dais Studio Pty Ltd v Bullett Creative Pty Ltd...   \n",
              "4       Case5        cited  Dr Martens Australia Pty Ltd v Figgins Holding...   \n",
              "..        ...          ...                                                ...   \n",
              "992  Case1011  referred to                     R v Ampi Hungan [2000] NTSC 84   \n",
              "993  Case1012  referred to          R v Dudley and Stephens (1884) 14 QBD 273   \n",
              "994  Case1013  referred to                         R v Loughnan [1981] VR 443   \n",
              "995  Case1014   considered  R v Oblach [2005] NSWCCA 440 ; (2005) 65 NSWLR 75   \n",
              "996  Case1015  referred to       Re Centennial Coal Co Ltd (2006) 226 ALR 341   \n",
              "\n",
              "                                             case_text  \n",
              "0    Ordinarily that discretion will be exercised s...  \n",
              "1    The general principles governing the exercise ...  \n",
              "2    Ordinarily that discretion will be exercised s...  \n",
              "3    The general principles governing the exercise ...  \n",
              "4    The preceding general principles inform the ex...  \n",
              "..                                                 ...  \n",
              "992  this conclusion, the Migration Act has neverth...  \n",
              "993  can be no doubt that the Criminal Code was int...  \n",
              "994  common law defence of necessity, from which th...  \n",
              "995  can be no doubt that the Criminal Code was int...  \n",
              "996  meaning of the word 'contravention' is critica...  \n",
              "\n",
              "[994 rows x 4 columns]"
            ],
            "text/html": [
              "\n",
              "  <div id=\"df-abf05850-1b45-4a21-afb2-93f9e8d71c16\">\n",
              "    <div class=\"colab-df-container\">\n",
              "      <div>\n",
              "<style scoped>\n",
              "    .dataframe tbody tr th:only-of-type {\n",
              "        vertical-align: middle;\n",
              "    }\n",
              "\n",
              "    .dataframe tbody tr th {\n",
              "        vertical-align: top;\n",
              "    }\n",
              "\n",
              "    .dataframe thead th {\n",
              "        text-align: right;\n",
              "    }\n",
              "</style>\n",
              "<table border=\"1\" class=\"dataframe\">\n",
              "  <thead>\n",
              "    <tr style=\"text-align: right;\">\n",
              "      <th></th>\n",
              "      <th>case_id</th>\n",
              "      <th>case_outcome</th>\n",
              "      <th>case_title</th>\n",
              "      <th>case_text</th>\n",
              "    </tr>\n",
              "  </thead>\n",
              "  <tbody>\n",
              "    <tr>\n",
              "      <th>0</th>\n",
              "      <td>Case1</td>\n",
              "      <td>cited</td>\n",
              "      <td>Alpine Hardwood (Aust) Pty Ltd v Hardys Pty Lt...</td>\n",
              "      <td>Ordinarily that discretion will be exercised s...</td>\n",
              "    </tr>\n",
              "    <tr>\n",
              "      <th>1</th>\n",
              "      <td>Case2</td>\n",
              "      <td>cited</td>\n",
              "      <td>Black v Lipovac [1998] FCA 699 ; (1998) 217 AL...</td>\n",
              "      <td>The general principles governing the exercise ...</td>\n",
              "    </tr>\n",
              "    <tr>\n",
              "      <th>2</th>\n",
              "      <td>Case3</td>\n",
              "      <td>cited</td>\n",
              "      <td>Colgate Palmolive Co v Cussons Pty Ltd (1993) ...</td>\n",
              "      <td>Ordinarily that discretion will be exercised s...</td>\n",
              "    </tr>\n",
              "    <tr>\n",
              "      <th>3</th>\n",
              "      <td>Case4</td>\n",
              "      <td>cited</td>\n",
              "      <td>Dais Studio Pty Ltd v Bullett Creative Pty Ltd...</td>\n",
              "      <td>The general principles governing the exercise ...</td>\n",
              "    </tr>\n",
              "    <tr>\n",
              "      <th>4</th>\n",
              "      <td>Case5</td>\n",
              "      <td>cited</td>\n",
              "      <td>Dr Martens Australia Pty Ltd v Figgins Holding...</td>\n",
              "      <td>The preceding general principles inform the ex...</td>\n",
              "    </tr>\n",
              "    <tr>\n",
              "      <th>...</th>\n",
              "      <td>...</td>\n",
              "      <td>...</td>\n",
              "      <td>...</td>\n",
              "      <td>...</td>\n",
              "    </tr>\n",
              "    <tr>\n",
              "      <th>992</th>\n",
              "      <td>Case1011</td>\n",
              "      <td>referred to</td>\n",
              "      <td>R v Ampi Hungan [2000] NTSC 84</td>\n",
              "      <td>this conclusion, the Migration Act has neverth...</td>\n",
              "    </tr>\n",
              "    <tr>\n",
              "      <th>993</th>\n",
              "      <td>Case1012</td>\n",
              "      <td>referred to</td>\n",
              "      <td>R v Dudley and Stephens (1884) 14 QBD 273</td>\n",
              "      <td>can be no doubt that the Criminal Code was int...</td>\n",
              "    </tr>\n",
              "    <tr>\n",
              "      <th>994</th>\n",
              "      <td>Case1013</td>\n",
              "      <td>referred to</td>\n",
              "      <td>R v Loughnan [1981] VR 443</td>\n",
              "      <td>common law defence of necessity, from which th...</td>\n",
              "    </tr>\n",
              "    <tr>\n",
              "      <th>995</th>\n",
              "      <td>Case1014</td>\n",
              "      <td>considered</td>\n",
              "      <td>R v Oblach [2005] NSWCCA 440 ; (2005) 65 NSWLR 75</td>\n",
              "      <td>can be no doubt that the Criminal Code was int...</td>\n",
              "    </tr>\n",
              "    <tr>\n",
              "      <th>996</th>\n",
              "      <td>Case1015</td>\n",
              "      <td>referred to</td>\n",
              "      <td>Re Centennial Coal Co Ltd (2006) 226 ALR 341</td>\n",
              "      <td>meaning of the word 'contravention' is critica...</td>\n",
              "    </tr>\n",
              "  </tbody>\n",
              "</table>\n",
              "<p>994 rows × 4 columns</p>\n",
              "</div>\n",
              "      <button class=\"colab-df-convert\" onclick=\"convertToInteractive('df-abf05850-1b45-4a21-afb2-93f9e8d71c16')\"\n",
              "              title=\"Convert this dataframe to an interactive table.\"\n",
              "              style=\"display:none;\">\n",
              "        \n",
              "  <svg xmlns=\"http://www.w3.org/2000/svg\" height=\"24px\"viewBox=\"0 0 24 24\"\n",
              "       width=\"24px\">\n",
              "    <path d=\"M0 0h24v24H0V0z\" fill=\"none\"/>\n",
              "    <path d=\"M18.56 5.44l.94 2.06.94-2.06 2.06-.94-2.06-.94-.94-2.06-.94 2.06-2.06.94zm-11 1L8.5 8.5l.94-2.06 2.06-.94-2.06-.94L8.5 2.5l-.94 2.06-2.06.94zm10 10l.94 2.06.94-2.06 2.06-.94-2.06-.94-.94-2.06-.94 2.06-2.06.94z\"/><path d=\"M17.41 7.96l-1.37-1.37c-.4-.4-.92-.59-1.43-.59-.52 0-1.04.2-1.43.59L10.3 9.45l-7.72 7.72c-.78.78-.78 2.05 0 2.83L4 21.41c.39.39.9.59 1.41.59.51 0 1.02-.2 1.41-.59l7.78-7.78 2.81-2.81c.8-.78.8-2.07 0-2.86zM5.41 20L4 18.59l7.72-7.72 1.47 1.35L5.41 20z\"/>\n",
              "  </svg>\n",
              "      </button>\n",
              "      \n",
              "  <style>\n",
              "    .colab-df-container {\n",
              "      display:flex;\n",
              "      flex-wrap:wrap;\n",
              "      gap: 12px;\n",
              "    }\n",
              "\n",
              "    .colab-df-convert {\n",
              "      background-color: #E8F0FE;\n",
              "      border: none;\n",
              "      border-radius: 50%;\n",
              "      cursor: pointer;\n",
              "      display: none;\n",
              "      fill: #1967D2;\n",
              "      height: 32px;\n",
              "      padding: 0 0 0 0;\n",
              "      width: 32px;\n",
              "    }\n",
              "\n",
              "    .colab-df-convert:hover {\n",
              "      background-color: #E2EBFA;\n",
              "      box-shadow: 0px 1px 2px rgba(60, 64, 67, 0.3), 0px 1px 3px 1px rgba(60, 64, 67, 0.15);\n",
              "      fill: #174EA6;\n",
              "    }\n",
              "\n",
              "    [theme=dark] .colab-df-convert {\n",
              "      background-color: #3B4455;\n",
              "      fill: #D2E3FC;\n",
              "    }\n",
              "\n",
              "    [theme=dark] .colab-df-convert:hover {\n",
              "      background-color: #434B5C;\n",
              "      box-shadow: 0px 1px 3px 1px rgba(0, 0, 0, 0.15);\n",
              "      filter: drop-shadow(0px 1px 2px rgba(0, 0, 0, 0.3));\n",
              "      fill: #FFFFFF;\n",
              "    }\n",
              "  </style>\n",
              "\n",
              "      <script>\n",
              "        const buttonEl =\n",
              "          document.querySelector('#df-abf05850-1b45-4a21-afb2-93f9e8d71c16 button.colab-df-convert');\n",
              "        buttonEl.style.display =\n",
              "          google.colab.kernel.accessAllowed ? 'block' : 'none';\n",
              "\n",
              "        async function convertToInteractive(key) {\n",
              "          const element = document.querySelector('#df-abf05850-1b45-4a21-afb2-93f9e8d71c16');\n",
              "          const dataTable =\n",
              "            await google.colab.kernel.invokeFunction('convertToInteractive',\n",
              "                                                     [key], {});\n",
              "          if (!dataTable) return;\n",
              "\n",
              "          const docLinkHtml = 'Like what you see? Visit the ' +\n",
              "            '<a target=\"_blank\" href=https://colab.research.google.com/notebooks/data_table.ipynb>data table notebook</a>'\n",
              "            + ' to learn more about interactive tables.';\n",
              "          element.innerHTML = '';\n",
              "          dataTable['output_type'] = 'display_data';\n",
              "          await google.colab.output.renderOutput(dataTable, element);\n",
              "          const docLink = document.createElement('div');\n",
              "          docLink.innerHTML = docLinkHtml;\n",
              "          element.appendChild(docLink);\n",
              "        }\n",
              "      </script>\n",
              "    </div>\n",
              "  </div>\n",
              "  "
            ]
          },
          "metadata": {},
          "execution_count": 31
        }
      ],
      "source": [
        "df"
      ],
      "id": "4ef8af63"
    },
    {
      "cell_type": "markdown",
      "metadata": {
        "id": "468df012"
      },
      "source": [
        "# 2) What words are used in each case outcomes"
      ],
      "id": "468df012"
    },
    {
      "cell_type": "code",
      "execution_count": 32,
      "metadata": {
        "id": "CF4G2WL3ji4h",
        "outputId": "ffd261a8-4b59-4128-a8d9-fba4f997e1dc",
        "colab": {
          "base_uri": "https://localhost:8080/"
        }
      },
      "outputs": [
        {
          "output_type": "stream",
          "name": "stdout",
          "text": [
            "Looking in indexes: https://pypi.org/simple, https://us-python.pkg.dev/colab-wheels/public/simple/\n",
            "Requirement already satisfied: nltk in /usr/local/lib/python3.7/dist-packages (3.2.5)\n",
            "Requirement already satisfied: six in /usr/local/lib/python3.7/dist-packages (from nltk) (1.15.0)\n"
          ]
        }
      ],
      "source": [
        "!pip install nltk"
      ],
      "id": "CF4G2WL3ji4h"
    },
    {
      "cell_type": "code",
      "execution_count": 33,
      "metadata": {
        "id": "nE3fXcsWjdGo",
        "outputId": "2084f395-dabd-49f8-e64f-ca0c231ba7c0",
        "colab": {
          "base_uri": "https://localhost:8080/"
        }
      },
      "outputs": [
        {
          "output_type": "stream",
          "name": "stdout",
          "text": [
            "[nltk_data] Downloading package stopwords to /root/nltk_data...\n",
            "[nltk_data]   Unzipping corpora/stopwords.zip.\n",
            "[nltk_data] Downloading package punkt to /root/nltk_data...\n",
            "[nltk_data]   Unzipping tokenizers/punkt.zip.\n"
          ]
        },
        {
          "output_type": "execute_result",
          "data": {
            "text/plain": [
              "True"
            ]
          },
          "metadata": {},
          "execution_count": 33
        }
      ],
      "source": [
        "  import nltk\n",
        "  nltk.download('stopwords')\n",
        "  nltk.download('punkt')"
      ],
      "id": "nE3fXcsWjdGo"
    },
    {
      "cell_type": "code",
      "execution_count": 34,
      "metadata": {
        "id": "95c0ce9c"
      },
      "outputs": [],
      "source": [
        "from nltk.tokenize import word_tokenize\n",
        "from nltk.corpus import stopwords\n",
        "from string import punctuation\n",
        "import string\n",
        "\n",
        "list_stopwords = set(stopwords.words('english'))\n",
        "df2= df[['case_text']]\n",
        "df2['case_text'] = df2['case_text'].str.lower()\n",
        "df2['case_text'] = df2['case_text'].apply(word_tokenize)\n",
        "df2['case_text'] = df2['case_text'].apply(lambda x: [word for word in x if word not in list_stopwords])\n",
        "df2['case_text'] = df2['case_text'].apply(lambda x : [word.translate(str.maketrans('', '', string.punctuation)) for word in x])\n",
        "df2['case_text'] = df2['case_text'].apply(lambda x : [word for word in x if len(word) > 1])"
      ],
      "id": "95c0ce9c"
    },
    {
      "cell_type": "code",
      "execution_count": 35,
      "metadata": {
        "id": "b9938b60"
      },
      "outputs": [],
      "source": [
        "df2['case_outcome']=df['case_outcome']"
      ],
      "id": "b9938b60"
    },
    {
      "cell_type": "code",
      "execution_count": 36,
      "metadata": {
        "id": "8c306b5f",
        "outputId": "717086f6-7af4-4881-837d-16724bbe8e76",
        "colab": {
          "base_uri": "https://localhost:8080/",
          "height": 424
        }
      },
      "outputs": [
        {
          "output_type": "execute_result",
          "data": {
            "text/plain": [
              "                                             case_text case_outcome\n",
              "0    [ordinarily, discretion, exercised, costs, fol...        cited\n",
              "1    [general, principles, governing, exercise, dis...        cited\n",
              "2    [ordinarily, discretion, exercised, costs, fol...        cited\n",
              "3    [general, principles, governing, exercise, dis...        cited\n",
              "4    [preceding, general, principles, inform, exerc...        cited\n",
              "..                                                 ...          ...\n",
              "992  [conclusion, migration, act, nevertheless, con...  referred to\n",
              "993  [doubt, criminal, code, intended, provide, pri...  referred to\n",
              "994  [common, law, defence, necessity, defence, sud...  referred to\n",
              "995  [doubt, criminal, code, intended, provide, pri...   considered\n",
              "996  [meaning, word, contravention, critical, prese...  referred to\n",
              "\n",
              "[994 rows x 2 columns]"
            ],
            "text/html": [
              "\n",
              "  <div id=\"df-1ccaffd0-fd0f-4e88-b828-ece72e0401b5\">\n",
              "    <div class=\"colab-df-container\">\n",
              "      <div>\n",
              "<style scoped>\n",
              "    .dataframe tbody tr th:only-of-type {\n",
              "        vertical-align: middle;\n",
              "    }\n",
              "\n",
              "    .dataframe tbody tr th {\n",
              "        vertical-align: top;\n",
              "    }\n",
              "\n",
              "    .dataframe thead th {\n",
              "        text-align: right;\n",
              "    }\n",
              "</style>\n",
              "<table border=\"1\" class=\"dataframe\">\n",
              "  <thead>\n",
              "    <tr style=\"text-align: right;\">\n",
              "      <th></th>\n",
              "      <th>case_text</th>\n",
              "      <th>case_outcome</th>\n",
              "    </tr>\n",
              "  </thead>\n",
              "  <tbody>\n",
              "    <tr>\n",
              "      <th>0</th>\n",
              "      <td>[ordinarily, discretion, exercised, costs, fol...</td>\n",
              "      <td>cited</td>\n",
              "    </tr>\n",
              "    <tr>\n",
              "      <th>1</th>\n",
              "      <td>[general, principles, governing, exercise, dis...</td>\n",
              "      <td>cited</td>\n",
              "    </tr>\n",
              "    <tr>\n",
              "      <th>2</th>\n",
              "      <td>[ordinarily, discretion, exercised, costs, fol...</td>\n",
              "      <td>cited</td>\n",
              "    </tr>\n",
              "    <tr>\n",
              "      <th>3</th>\n",
              "      <td>[general, principles, governing, exercise, dis...</td>\n",
              "      <td>cited</td>\n",
              "    </tr>\n",
              "    <tr>\n",
              "      <th>4</th>\n",
              "      <td>[preceding, general, principles, inform, exerc...</td>\n",
              "      <td>cited</td>\n",
              "    </tr>\n",
              "    <tr>\n",
              "      <th>...</th>\n",
              "      <td>...</td>\n",
              "      <td>...</td>\n",
              "    </tr>\n",
              "    <tr>\n",
              "      <th>992</th>\n",
              "      <td>[conclusion, migration, act, nevertheless, con...</td>\n",
              "      <td>referred to</td>\n",
              "    </tr>\n",
              "    <tr>\n",
              "      <th>993</th>\n",
              "      <td>[doubt, criminal, code, intended, provide, pri...</td>\n",
              "      <td>referred to</td>\n",
              "    </tr>\n",
              "    <tr>\n",
              "      <th>994</th>\n",
              "      <td>[common, law, defence, necessity, defence, sud...</td>\n",
              "      <td>referred to</td>\n",
              "    </tr>\n",
              "    <tr>\n",
              "      <th>995</th>\n",
              "      <td>[doubt, criminal, code, intended, provide, pri...</td>\n",
              "      <td>considered</td>\n",
              "    </tr>\n",
              "    <tr>\n",
              "      <th>996</th>\n",
              "      <td>[meaning, word, contravention, critical, prese...</td>\n",
              "      <td>referred to</td>\n",
              "    </tr>\n",
              "  </tbody>\n",
              "</table>\n",
              "<p>994 rows × 2 columns</p>\n",
              "</div>\n",
              "      <button class=\"colab-df-convert\" onclick=\"convertToInteractive('df-1ccaffd0-fd0f-4e88-b828-ece72e0401b5')\"\n",
              "              title=\"Convert this dataframe to an interactive table.\"\n",
              "              style=\"display:none;\">\n",
              "        \n",
              "  <svg xmlns=\"http://www.w3.org/2000/svg\" height=\"24px\"viewBox=\"0 0 24 24\"\n",
              "       width=\"24px\">\n",
              "    <path d=\"M0 0h24v24H0V0z\" fill=\"none\"/>\n",
              "    <path d=\"M18.56 5.44l.94 2.06.94-2.06 2.06-.94-2.06-.94-.94-2.06-.94 2.06-2.06.94zm-11 1L8.5 8.5l.94-2.06 2.06-.94-2.06-.94L8.5 2.5l-.94 2.06-2.06.94zm10 10l.94 2.06.94-2.06 2.06-.94-2.06-.94-.94-2.06-.94 2.06-2.06.94z\"/><path d=\"M17.41 7.96l-1.37-1.37c-.4-.4-.92-.59-1.43-.59-.52 0-1.04.2-1.43.59L10.3 9.45l-7.72 7.72c-.78.78-.78 2.05 0 2.83L4 21.41c.39.39.9.59 1.41.59.51 0 1.02-.2 1.41-.59l7.78-7.78 2.81-2.81c.8-.78.8-2.07 0-2.86zM5.41 20L4 18.59l7.72-7.72 1.47 1.35L5.41 20z\"/>\n",
              "  </svg>\n",
              "      </button>\n",
              "      \n",
              "  <style>\n",
              "    .colab-df-container {\n",
              "      display:flex;\n",
              "      flex-wrap:wrap;\n",
              "      gap: 12px;\n",
              "    }\n",
              "\n",
              "    .colab-df-convert {\n",
              "      background-color: #E8F0FE;\n",
              "      border: none;\n",
              "      border-radius: 50%;\n",
              "      cursor: pointer;\n",
              "      display: none;\n",
              "      fill: #1967D2;\n",
              "      height: 32px;\n",
              "      padding: 0 0 0 0;\n",
              "      width: 32px;\n",
              "    }\n",
              "\n",
              "    .colab-df-convert:hover {\n",
              "      background-color: #E2EBFA;\n",
              "      box-shadow: 0px 1px 2px rgba(60, 64, 67, 0.3), 0px 1px 3px 1px rgba(60, 64, 67, 0.15);\n",
              "      fill: #174EA6;\n",
              "    }\n",
              "\n",
              "    [theme=dark] .colab-df-convert {\n",
              "      background-color: #3B4455;\n",
              "      fill: #D2E3FC;\n",
              "    }\n",
              "\n",
              "    [theme=dark] .colab-df-convert:hover {\n",
              "      background-color: #434B5C;\n",
              "      box-shadow: 0px 1px 3px 1px rgba(0, 0, 0, 0.15);\n",
              "      filter: drop-shadow(0px 1px 2px rgba(0, 0, 0, 0.3));\n",
              "      fill: #FFFFFF;\n",
              "    }\n",
              "  </style>\n",
              "\n",
              "      <script>\n",
              "        const buttonEl =\n",
              "          document.querySelector('#df-1ccaffd0-fd0f-4e88-b828-ece72e0401b5 button.colab-df-convert');\n",
              "        buttonEl.style.display =\n",
              "          google.colab.kernel.accessAllowed ? 'block' : 'none';\n",
              "\n",
              "        async function convertToInteractive(key) {\n",
              "          const element = document.querySelector('#df-1ccaffd0-fd0f-4e88-b828-ece72e0401b5');\n",
              "          const dataTable =\n",
              "            await google.colab.kernel.invokeFunction('convertToInteractive',\n",
              "                                                     [key], {});\n",
              "          if (!dataTable) return;\n",
              "\n",
              "          const docLinkHtml = 'Like what you see? Visit the ' +\n",
              "            '<a target=\"_blank\" href=https://colab.research.google.com/notebooks/data_table.ipynb>data table notebook</a>'\n",
              "            + ' to learn more about interactive tables.';\n",
              "          element.innerHTML = '';\n",
              "          dataTable['output_type'] = 'display_data';\n",
              "          await google.colab.output.renderOutput(dataTable, element);\n",
              "          const docLink = document.createElement('div');\n",
              "          docLink.innerHTML = docLinkHtml;\n",
              "          element.appendChild(docLink);\n",
              "        }\n",
              "      </script>\n",
              "    </div>\n",
              "  </div>\n",
              "  "
            ]
          },
          "metadata": {},
          "execution_count": 36
        }
      ],
      "source": [
        "df.rename(columns=df.iloc[0]).drop(df.index[0])\n",
        "df2"
      ],
      "id": "8c306b5f"
    },
    {
      "cell_type": "code",
      "execution_count": 37,
      "metadata": {
        "id": "94ac4750",
        "outputId": "a5384500-d145-4c4e-b8e6-9efc3d5d15ca",
        "colab": {
          "base_uri": "https://localhost:8080/"
        }
      },
      "outputs": [
        {
          "output_type": "execute_result",
          "data": {
            "text/plain": [
              "array(['cited', 'applied', 'followed', 'referred to', 'related',\n",
              "       'considered', 'discussed', 'distinguished', 'affirmed'],\n",
              "      dtype=object)"
            ]
          },
          "metadata": {},
          "execution_count": 37
        }
      ],
      "source": [
        "df['case_outcome'].unique()"
      ],
      "id": "94ac4750"
    },
    {
      "cell_type": "code",
      "execution_count": 38,
      "metadata": {
        "id": "a8094160"
      },
      "outputs": [],
      "source": [
        "df2_cited=df2[df2['case_outcome']=='cited']\n",
        "df2_applied=df2[df2['case_outcome']=='applied']\n",
        "df2_followed=df2[df2['case_outcome']=='followed']\n",
        "df2_referred=df2[df2['case_outcome']=='referred to']\n",
        "df2_related=df2[df2['case_outcome']=='related']\n",
        "df2_considered=df2[df2['case_outcome']=='considered']\n",
        "df2_discussed=df2[df2['case_outcome']=='discussed']\n",
        "df2_distinguished=df2[df2['case_outcome']=='distinguished']\n",
        "df2_affirmed=df2[df2['case_outcome']=='affirmed']\n",
        "df2_approved=df2[df2['case_outcome']=='approved']"
      ],
      "id": "a8094160"
    },
    {
      "cell_type": "code",
      "execution_count": 39,
      "metadata": {
        "id": "94f9929b"
      },
      "outputs": [],
      "source": [
        "df3_cited=df2_cited['case_text'].explode()\n",
        "df3_applied=df2_applied['case_text'].explode()\n",
        "df3_followed=df2_followed['case_text'].explode()\n",
        "df3_referred=df2_referred['case_text'].explode()\n",
        "df3_related=df2_related['case_text'].explode()\n",
        "df3_considered=df2_considered['case_text'].explode()\n",
        "df3_discussed=df2_discussed['case_text'].explode()\n",
        "df3_distinguished=df2_distinguished['case_text'].explode()\n",
        "df3_affirmed=df2_affirmed['case_text'].explode()\n",
        "df3_approved=df2_approved['case_text'].explode()"
      ],
      "id": "94f9929b"
    },
    {
      "cell_type": "code",
      "execution_count": 40,
      "metadata": {
        "id": "6bac556d"
      },
      "outputs": [],
      "source": [
        "df3_cited=pd.DataFrame(df3_cited)\n",
        "df3_applied=pd.DataFrame(df3_applied)\n",
        "df3_followed=pd.DataFrame(df3_followed)\n",
        "df3_referred=pd.DataFrame(df3_referred)\n",
        "df3_related=pd.DataFrame(df3_related)\n",
        "df3_considered=pd.DataFrame(df3_considered)\n",
        "df3_discussed=pd.DataFrame(df3_discussed)\n",
        "df3_distinguished=pd.DataFrame(df3_distinguished)\n",
        "df3_affirmed=pd.DataFrame(df3_affirmed)\n",
        "df3_approved=pd.DataFrame(df3_approved)"
      ],
      "id": "6bac556d"
    },
    {
      "cell_type": "code",
      "execution_count": 41,
      "metadata": {
        "id": "jNJNDCGIj3Pa",
        "outputId": "707ec5fd-16bc-4ff4-f875-085b9f8c9efd",
        "colab": {
          "base_uri": "https://localhost:8080/"
        }
      },
      "outputs": [
        {
          "output_type": "stream",
          "name": "stdout",
          "text": [
            "Looking in indexes: https://pypi.org/simple, https://us-python.pkg.dev/colab-wheels/public/simple/\n",
            "Collecting squarify\n",
            "  Downloading squarify-0.4.3-py3-none-any.whl (4.3 kB)\n",
            "Installing collected packages: squarify\n",
            "Successfully installed squarify-0.4.3\n"
          ]
        }
      ],
      "source": [
        "!pip install squarify"
      ],
      "id": "jNJNDCGIj3Pa"
    },
    {
      "cell_type": "code",
      "execution_count": 42,
      "metadata": {
        "id": "58283f8c"
      },
      "outputs": [],
      "source": [
        "import squarify"
      ],
      "id": "58283f8c"
    },
    {
      "cell_type": "code",
      "execution_count": 43,
      "metadata": {
        "id": "97cfc92c"
      },
      "outputs": [],
      "source": [
        "df2_total=df2['case_text'].explode()\n",
        "df2_total=pd.DataFrame(df2_total)"
      ],
      "id": "97cfc92c"
    },
    {
      "cell_type": "code",
      "execution_count": 44,
      "metadata": {
        "id": "b6a97692",
        "outputId": "e70ee326-ee60-49a5-b0ab-74ef99d992de",
        "colab": {
          "base_uri": "https://localhost:8080/",
          "height": 248
        }
      },
      "outputs": [
        {
          "output_type": "display_data",
          "data": {
            "text/plain": [
              "<Figure size 432x288 with 1 Axes>"
            ],
            "image/png": "[encoded data removed]"
          },
          "metadata": {
            "needs_background": "light"
          }
        }
      ],
      "source": [
        "df2_total=pd.DataFrame(df2_total.groupby('case_text')['case_text'].count().sort_values(ascending=False).head(30))\n",
        "df2_total=df2_total.rename(columns={'case_text': 'num'})\n",
        "\n",
        "x = df2_total['num']\n",
        "label = df2_total.index\n",
        "squarify.plot(x, label=label,color=sns.color_palette('husl'))\n",
        "plt.axis('off')\n",
        "plt.show()"
      ],
      "id": "b6a97692"
    },
    {
      "cell_type": "code",
      "execution_count": 45,
      "metadata": {
        "id": "fe342e83",
        "outputId": "8f69ffc3-ad53-4adb-e7ac-1325652b70e6",
        "colab": {
          "base_uri": "https://localhost:8080/",
          "height": 248
        }
      },
      "outputs": [
        {
          "output_type": "display_data",
          "data": {
            "text/plain": [
              "<Figure size 432x288 with 1 Axes>"
            ],
            "image/png": "[encoded data removed]"
          },
          "metadata": {
            "needs_background": "light"
          }
        }
      ],
      "source": [
        "df3_cited=pd.DataFrame(df3_cited.groupby('case_text')['case_text'].count().sort_values(ascending=False).head(30))\n",
        "df3_cited=df3_cited.rename(columns={'case_text': 'num'})\n",
        "\n",
        "x = df3_cited['num']\n",
        "label = df3_cited.index\n",
        "squarify.plot(x, label=label,color=sns.color_palette('husl'))\n",
        "plt.axis('off')\n",
        "plt.show()"
      ],
      "id": "fe342e83"
    },
    {
      "cell_type": "code",
      "execution_count": 46,
      "metadata": {
        "id": "4748c7a5",
        "outputId": "7021e015-f0d5-4248-b6da-4687f0cd78d9",
        "colab": {
          "base_uri": "https://localhost:8080/",
          "height": 248
        }
      },
      "outputs": [
        {
          "output_type": "display_data",
          "data": {
            "text/plain": [
              "<Figure size 432x288 with 1 Axes>"
            ],
            "image/png": "[encoded data removed]"
          },
          "metadata": {
            "needs_background": "light"
          }
        }
      ],
      "source": [
        "df3_applied=pd.DataFrame(df3_applied.groupby('case_text')['case_text'].count().sort_values(ascending=False).head(30))\n",
        "df3_applied=df3_applied.rename(columns={'case_text': 'num'})\n",
        "\n",
        "x = df3_applied['num']\n",
        "label = df3_applied.index\n",
        "squarify.plot(x, label=label,color=sns.color_palette('husl'))\n",
        "plt.axis('off')\n",
        "plt.show()"
      ],
      "id": "4748c7a5"
    },
    {
      "cell_type": "code",
      "execution_count": 47,
      "metadata": {
        "id": "aad515bf",
        "outputId": "0a5b41a9-dda3-4776-d6bf-e0fa6e03c638",
        "colab": {
          "base_uri": "https://localhost:8080/",
          "height": 248
        }
      },
      "outputs": [
        {
          "output_type": "display_data",
          "data": {
            "text/plain": [
              "<Figure size 432x288 with 1 Axes>"
            ],
            "image/png": "[encoded data removed]"
          },
          "metadata": {
            "needs_background": "light"
          }
        }
      ],
      "source": [
        "df3_followed=pd.DataFrame(df3_followed.groupby('case_text')['case_text'].count().sort_values(ascending=False).head(30))\n",
        "df3_followed=df3_followed.rename(columns={'case_text': 'num'})\n",
        "\n",
        "x = df3_followed['num']\n",
        "label = df3_followed.index\n",
        "squarify.plot(x, label=label,color=sns.color_palette('husl'))\n",
        "plt.axis('off')\n",
        "plt.show()"
      ],
      "id": "aad515bf"
    },
    {
      "cell_type": "code",
      "execution_count": 48,
      "metadata": {
        "id": "6e70ab71",
        "outputId": "b87f977d-27d4-4930-d8b4-b2d522a016b9",
        "colab": {
          "base_uri": "https://localhost:8080/",
          "height": 248
        }
      },
      "outputs": [
        {
          "output_type": "display_data",
          "data": {
            "text/plain": [
              "<Figure size 432x288 with 1 Axes>"
            ],
            "image/png": "[encoded data removed]"
          },
          "metadata": {
            "needs_background": "light"
          }
        }
      ],
      "source": [
        "df3_referred=pd.DataFrame(df3_referred.groupby('case_text')['case_text'].count().sort_values(ascending=False).head(30))\n",
        "df3_referred=df3_referred.rename(columns={'case_text': 'num'})\n",
        "\n",
        "x = df3_referred['num']\n",
        "label = df3_referred.index\n",
        "squarify.plot(x, label=label,color=sns.color_palette('husl'))\n",
        "plt.axis('off')\n",
        "plt.show()"
      ],
      "id": "6e70ab71"
    },
    {
      "cell_type": "code",
      "execution_count": 49,
      "metadata": {
        "id": "9af7fbf5",
        "outputId": "6a942eed-00bd-4ecf-bd06-3cc50b0d6c37",
        "colab": {
          "base_uri": "https://localhost:8080/",
          "height": 248
        }
      },
      "outputs": [
        {
          "output_type": "display_data",
          "data": {
            "text/plain": [
              "<Figure size 432x288 with 1 Axes>"
            ],
            "image/png": "[encoded data removed]"
          },
          "metadata": {
            "needs_background": "light"
          }
        }
      ],
      "source": [
        "df3_related=pd.DataFrame(df3_related.groupby('case_text')['case_text'].count().sort_values(ascending=False).head(30))\n",
        "df3_related=df3_related.rename(columns={'case_text': 'num'})\n",
        "\n",
        "x = df3_related['num']\n",
        "label = df3_related.index\n",
        "squarify.plot(x, label=label,color=sns.color_palette('husl'))\n",
        "plt.axis('off')\n",
        "plt.show()"
      ],
      "id": "9af7fbf5"
    },
    {
      "cell_type": "code",
      "execution_count": 50,
      "metadata": {
        "id": "ffe1ebd5",
        "outputId": "14e81c02-ea64-4802-ccb2-09b8ad27a0e7",
        "colab": {
          "base_uri": "https://localhost:8080/",
          "height": 248
        }
      },
      "outputs": [
        {
          "output_type": "display_data",
          "data": {
            "text/plain": [
              "<Figure size 432x288 with 1 Axes>"
            ],
            "image/png": "[encoded data removed]"
          },
          "metadata": {
            "needs_background": "light"
          }
        }
      ],
      "source": [
        "df3_considered=pd.DataFrame(df3_considered.groupby('case_text')['case_text'].count().sort_values(ascending=False).head(30))\n",
        "df3_considered=df3_considered.rename(columns={'case_text': 'num'})\n",
        "\n",
        "x = df3_considered['num']\n",
        "label = df3_considered.index\n",
        "squarify.plot(x, label=label,color=sns.color_palette('husl'))\n",
        "plt.axis('off')\n",
        "plt.show()"
      ],
      "id": "ffe1ebd5"
    },
    {
      "cell_type": "code",
      "execution_count": 51,
      "metadata": {
        "id": "372541a9",
        "outputId": "315672ea-efda-43a7-9165-763c6ab26a4e",
        "colab": {
          "base_uri": "https://localhost:8080/",
          "height": 248
        }
      },
      "outputs": [
        {
          "output_type": "display_data",
          "data": {
            "text/plain": [
              "<Figure size 432x288 with 1 Axes>"
            ],
            "image/png": "[encoded data removed]"
          },
          "metadata": {
            "needs_background": "light"
          }
        }
      ],
      "source": [
        "df3_discussed=pd.DataFrame(df3_discussed.groupby('case_text')['case_text'].count().sort_values(ascending=False).head(30))\n",
        "df3_discussed=df3_discussed.rename(columns={'case_text': 'num'})\n",
        "\n",
        "x = df3_discussed['num']\n",
        "label = df3_discussed.index\n",
        "squarify.plot(x, label=label,color=sns.color_palette('husl'))\n",
        "plt.axis('off')\n",
        "plt.show()"
      ],
      "id": "372541a9"
    },
    {
      "cell_type": "code",
      "execution_count": 52,
      "metadata": {
        "id": "3e713052",
        "outputId": "f62fed2a-3b04-4ae1-8c5e-33a75442f5df",
        "colab": {
          "base_uri": "https://localhost:8080/",
          "height": 248
        }
      },
      "outputs": [
        {
          "output_type": "display_data",
          "data": {
            "text/plain": [
              "<Figure size 432x288 with 1 Axes>"
            ],
            "image/png": "[encoded data removed]"
          },
          "metadata": {
            "needs_background": "light"
          }
        }
      ],
      "source": [
        "df3_distinguished=pd.DataFrame(df3_distinguished.groupby('case_text')['case_text'].count().sort_values(ascending=False).head(30))\n",
        "df3_distinguished=df3_distinguished.rename(columns={'case_text': 'num'})\n",
        "\n",
        "x = df3_distinguished['num']\n",
        "label = df3_distinguished.index\n",
        "squarify.plot(x, label=label,color=sns.color_palette('husl'))\n",
        "plt.axis('off')\n",
        "plt.show()"
      ],
      "id": "3e713052"
    },
    {
      "cell_type": "code",
      "execution_count": 53,
      "metadata": {
        "id": "b388826a",
        "outputId": "2f9a7d3a-b83c-4a9f-8674-5ac6efdca33c",
        "colab": {
          "base_uri": "https://localhost:8080/",
          "height": 248
        }
      },
      "outputs": [
        {
          "output_type": "display_data",
          "data": {
            "text/plain": [
              "<Figure size 432x288 with 1 Axes>"
            ],
            "image/png": "[encoded data removed]"
          },
          "metadata": {
            "needs_background": "light"
          }
        }
      ],
      "source": [
        "df3_affirmed=pd.DataFrame(df3_affirmed.groupby('case_text')['case_text'].count().sort_values(ascending=False).head(30))\n",
        "df3_affirmed=df3_affirmed.rename(columns={'case_text': 'num'})\n",
        "\n",
        "x = df3_affirmed['num']\n",
        "label = df3_affirmed.index\n",
        "squarify.plot(x, label=label,color=sns.color_palette('husl'))\n",
        "plt.axis('off')\n",
        "plt.show()"
      ],
      "id": "b388826a"
    },
    {
      "cell_type": "code",
      "execution_count": 54,
      "metadata": {
        "id": "e408a6ad",
        "outputId": "8f7bfb5e-4202-45b3-93a2-0fbabe277eef",
        "colab": {
          "base_uri": "https://localhost:8080/",
          "height": 248
        }
      },
      "outputs": [
        {
          "output_type": "display_data",
          "data": {
            "text/plain": [
              "<Figure size 432x288 with 1 Axes>"
            ],
            "image/png": "[encoded data removed]"
          },
          "metadata": {
            "needs_background": "light"
          }
        }
      ],
      "source": [
        "df3_approved=pd.DataFrame(df3_approved.groupby('case_text')['case_text'].count().sort_values(ascending=False).head(30))\n",
        "df3_approved=df3_approved.rename(columns={'case_text': 'num'})\n",
        "\n",
        "x = df3_approved['num']\n",
        "label = df3_approved.index\n",
        "squarify.plot(x, label=label,color=sns.color_palette('husl'))\n",
        "plt.axis('off')\n",
        "plt.show()"
      ],
      "id": "e408a6ad"
    },
    {
      "cell_type": "markdown",
      "metadata": {
        "id": "9c6f13c5"
      },
      "source": [
        "# 3) Multi-categories prediction trial"
      ],
      "id": "9c6f13c5"
    },
    {
      "cell_type": "code",
      "execution_count": 55,
      "metadata": {
        "id": "96e09211",
        "outputId": "d2ff6445-ab81-494e-cdc2-76961ea4015b",
        "colab": {
          "base_uri": "https://localhost:8080/"
        }
      },
      "outputs": [
        {
          "output_type": "execute_result",
          "data": {
            "text/plain": [
              "array(['cited', 'applied', 'followed', 'referred to', 'related',\n",
              "       'considered', 'discussed', 'distinguished', 'affirmed'],\n",
              "      dtype=object)"
            ]
          },
          "metadata": {},
          "execution_count": 55
        }
      ],
      "source": [
        "df['case_outcome'].unique()"
      ],
      "id": "96e09211"
    },
    {
      "cell_type": "code",
      "execution_count": 56,
      "metadata": {
        "id": "bc59c2e1"
      },
      "outputs": [],
      "source": [
        "df['case_outcome']=df['case_outcome'].replace({'cited':1, 'applied':2,'followed':3,'referred to':4,'related':5,'considered':6,'discussed':7,\n",
        "              'distinguished':8,'affirmed':9,'approved':10})"
      ],
      "id": "bc59c2e1"
    },
    {
      "cell_type": "code",
      "execution_count": 57,
      "metadata": {
        "id": "b89f0a89"
      },
      "outputs": [],
      "source": [
        "from sklearn.model_selection import train_test_split\n",
        "\n",
        "sentences = df['case_text'].values\n",
        "y = df['case_outcome'].values\n",
        "\n",
        "sentences_train, sentences_test, y_train, y_test = train_test_split(\n",
        "    sentences, y, test_size=0.25, random_state=1000)"
      ],
      "id": "b89f0a89"
    },
    {
      "cell_type": "code",
      "execution_count": 58,
      "metadata": {
        "id": "b4366a34"
      },
      "outputs": [],
      "source": [
        "from sklearn.feature_extraction.text import CountVectorizer\n",
        "\n",
        "vectorizer = CountVectorizer()\n",
        "vectorizer.fit(sentences_train)\n",
        "\n",
        "X_train = vectorizer.transform(sentences_train)\n",
        "X_test  = vectorizer.transform(sentences_test)\n",
        "X_train"
      ],
      "id": "b4366a34"
    },
    {
      "cell_type": "code",
      "execution_count": 59,
      "metadata": {
        "id": "c842d038"
      },
      "outputs": [],
      "source": [
        "from keras.models import Sequential\n",
        "from keras import layers"
      ],
      "id": "c842d038"
    },
    {
      "cell_type": "code",
      "execution_count": 61,
      "metadata": {
        "id": "i0oB-Pj5lk2m",
        "outputId": "bc64cee0-f74a-431e-a034-99821455e28b",
        "colab": {
          "base_uri": "https://localhost:8080/"
        }
      },
      "outputs": [
        {
          "output_type": "stream",
          "name": "stdout",
          "text": [
            "Looking in indexes: https://pypi.org/simple, https://us-python.pkg.dev/colab-wheels/public/simple/\n",
            "Requirement already satisfied: tensorflow in /usr/local/lib/python3.7/dist-packages (2.8.2+zzzcolab20220527125636)\n",
            "Requirement already satisfied: typing-extensions>=3.6.6 in /usr/local/lib/python3.7/dist-packages (from tensorflow) (4.2.0)\n",
            "Requirement already satisfied: google-pasta>=0.1.1 in /usr/local/lib/python3.7/dist-packages (from tensorflow) (0.2.0)\n",
            "Requirement already satisfied: tensorflow-estimator<2.9,>=2.8 in /usr/local/lib/python3.7/dist-packages (from tensorflow) (2.8.0)\n",
            "Requirement already satisfied: grpcio<2.0,>=1.24.3 in /usr/local/lib/python3.7/dist-packages (from tensorflow) (1.46.3)\n",
            "Requirement already satisfied: wrapt>=1.11.0 in /usr/local/lib/python3.7/dist-packages (from tensorflow) (1.14.1)\n",
            "Requirement already satisfied: numpy>=1.20 in /usr/local/lib/python3.7/dist-packages (from tensorflow) (1.21.6)\n",
            "Requirement already satisfied: flatbuffers>=1.12 in /usr/local/lib/python3.7/dist-packages (from tensorflow) (2.0)\n",
            "Requirement already satisfied: six>=1.12.0 in /usr/local/lib/python3.7/dist-packages (from tensorflow) (1.15.0)\n",
            "Requirement already satisfied: keras-preprocessing>=1.1.1 in /usr/local/lib/python3.7/dist-packages (from tensorflow) (1.1.2)\n",
            "Requirement already satisfied: termcolor>=1.1.0 in /usr/local/lib/python3.7/dist-packages (from tensorflow) (1.1.0)\n",
            "Requirement already satisfied: absl-py>=0.4.0 in /usr/local/lib/python3.7/dist-packages (from tensorflow) (1.0.0)\n",
            "Requirement already satisfied: gast>=0.2.1 in /usr/local/lib/python3.7/dist-packages (from tensorflow) (0.5.3)\n",
            "Requirement already satisfied: keras<2.9,>=2.8.0rc0 in /usr/local/lib/python3.7/dist-packages (from tensorflow) (2.8.0)\n",
            "Requirement already satisfied: opt-einsum>=2.3.2 in /usr/local/lib/python3.7/dist-packages (from tensorflow) (3.3.0)\n",
            "Requirement already satisfied: libclang>=9.0.1 in /usr/local/lib/python3.7/dist-packages (from tensorflow) (14.0.1)\n",
            "Requirement already satisfied: tensorboard<2.9,>=2.8 in /usr/local/lib/python3.7/dist-packages (from tensorflow) (2.8.0)\n",
            "Requirement already satisfied: setuptools in /usr/local/lib/python3.7/dist-packages (from tensorflow) (57.4.0)\n",
            "Requirement already satisfied: protobuf<3.20,>=3.9.2 in /usr/local/lib/python3.7/dist-packages (from tensorflow) (3.17.3)\n",
            "Requirement already satisfied: tensorflow-io-gcs-filesystem>=0.23.1 in /usr/local/lib/python3.7/dist-packages (from tensorflow) (0.26.0)\n",
            "Requirement already satisfied: astunparse>=1.6.0 in /usr/local/lib/python3.7/dist-packages (from tensorflow) (1.6.3)\n",
            "Requirement already satisfied: h5py>=2.9.0 in /usr/local/lib/python3.7/dist-packages (from tensorflow) (3.1.0)\n",
            "Requirement already satisfied: wheel<1.0,>=0.23.0 in /usr/local/lib/python3.7/dist-packages (from astunparse>=1.6.0->tensorflow) (0.37.1)\n",
            "Requirement already satisfied: cached-property in /usr/local/lib/python3.7/dist-packages (from h5py>=2.9.0->tensorflow) (1.5.2)\n",
            "Requirement already satisfied: google-auth<3,>=1.6.3 in /usr/local/lib/python3.7/dist-packages (from tensorboard<2.9,>=2.8->tensorflow) (1.35.0)\n",
            "Requirement already satisfied: requests<3,>=2.21.0 in /usr/local/lib/python3.7/dist-packages (from tensorboard<2.9,>=2.8->tensorflow) (2.23.0)\n",
            "Requirement already satisfied: tensorboard-plugin-wit>=1.6.0 in /usr/local/lib/python3.7/dist-packages (from tensorboard<2.9,>=2.8->tensorflow) (1.8.1)\n",
            "Requirement already satisfied: markdown>=2.6.8 in /usr/local/lib/python3.7/dist-packages (from tensorboard<2.9,>=2.8->tensorflow) (3.3.7)\n",
            "Requirement already satisfied: werkzeug>=0.11.15 in /usr/local/lib/python3.7/dist-packages (from tensorboard<2.9,>=2.8->tensorflow) (1.0.1)\n",
            "Requirement already satisfied: google-auth-oauthlib<0.5,>=0.4.1 in /usr/local/lib/python3.7/dist-packages (from tensorboard<2.9,>=2.8->tensorflow) (0.4.6)\n",
            "Requirement already satisfied: tensorboard-data-server<0.7.0,>=0.6.0 in /usr/local/lib/python3.7/dist-packages (from tensorboard<2.9,>=2.8->tensorflow) (0.6.1)\n",
            "Requirement already satisfied: pyasn1-modules>=0.2.1 in /usr/local/lib/python3.7/dist-packages (from google-auth<3,>=1.6.3->tensorboard<2.9,>=2.8->tensorflow) (0.2.8)\n",
            "Requirement already satisfied: rsa<5,>=3.1.4 in /usr/local/lib/python3.7/dist-packages (from google-auth<3,>=1.6.3->tensorboard<2.9,>=2.8->tensorflow) (4.8)\n",
            "Requirement already satisfied: cachetools<5.0,>=2.0.0 in /usr/local/lib/python3.7/dist-packages (from google-auth<3,>=1.6.3->tensorboard<2.9,>=2.8->tensorflow) (4.2.4)\n",
            "Requirement already satisfied: requests-oauthlib>=0.7.0 in /usr/local/lib/python3.7/dist-packages (from google-auth-oauthlib<0.5,>=0.4.1->tensorboard<2.9,>=2.8->tensorflow) (1.3.1)\n",
            "Requirement already satisfied: importlib-metadata>=4.4 in /usr/local/lib/python3.7/dist-packages (from markdown>=2.6.8->tensorboard<2.9,>=2.8->tensorflow) (4.11.4)\n",
            "Requirement already satisfied: zipp>=0.5 in /usr/local/lib/python3.7/dist-packages (from importlib-metadata>=4.4->markdown>=2.6.8->tensorboard<2.9,>=2.8->tensorflow) (3.8.0)\n",
            "Requirement already satisfied: pyasn1<0.5.0,>=0.4.6 in /usr/local/lib/python3.7/dist-packages (from pyasn1-modules>=0.2.1->google-auth<3,>=1.6.3->tensorboard<2.9,>=2.8->tensorflow) (0.4.8)\n",
            "Requirement already satisfied: chardet<4,>=3.0.2 in /usr/local/lib/python3.7/dist-packages (from requests<3,>=2.21.0->tensorboard<2.9,>=2.8->tensorflow) (3.0.4)\n",
            "Requirement already satisfied: idna<3,>=2.5 in /usr/local/lib/python3.7/dist-packages (from requests<3,>=2.21.0->tensorboard<2.9,>=2.8->tensorflow) (2.10)\n",
            "Requirement already satisfied: urllib3!=1.25.0,!=1.25.1,<1.26,>=1.21.1 in /usr/local/lib/python3.7/dist-packages (from requests<3,>=2.21.0->tensorboard<2.9,>=2.8->tensorflow) (1.24.3)\n",
            "Requirement already satisfied: certifi>=2017.4.17 in /usr/local/lib/python3.7/dist-packages (from requests<3,>=2.21.0->tensorboard<2.9,>=2.8->tensorflow) (2022.5.18.1)\n",
            "Requirement already satisfied: oauthlib>=3.0.0 in /usr/local/lib/python3.7/dist-packages (from requests-oauthlib>=0.7.0->google-auth-oauthlib<0.5,>=0.4.1->tensorboard<2.9,>=2.8->tensorflow) (3.2.0)\n"
          ]
        }
      ],
      "source": [
        "!pip install tensorflow"
      ],
      "id": "i0oB-Pj5lk2m"
    },
    {
      "cell_type": "code",
      "execution_count": 62,
      "metadata": {
        "id": "1260f156"
      },
      "outputs": [],
      "source": [
        "import tensorflow as tf\n",
        "from tensorflow.keras.datasets import mnist\n",
        "from tensorflow.keras.models import Sequential\n",
        "from tensorflow.keras.layers import Dense, Dropout"
      ],
      "id": "1260f156"
    },
    {
      "cell_type": "code",
      "execution_count": 63,
      "metadata": {
        "id": "5c257b58"
      },
      "outputs": [],
      "source": [
        "input_dim = X_train.shape[1]\n",
        "\n",
        "model = Sequential()\n",
        "model.add(layers.Dense(10, input_dim=input_dim, activation='relu'))\n",
        "model.add(layers.Dense(1, activation='softmax'))"
      ],
      "id": "5c257b58"
    },
    {
      "cell_type": "code",
      "execution_count": 64,
      "metadata": {
        "id": "681637aa",
        "outputId": "4ed8783c-0a37-4797-b587-5ba92cb511a8",
        "colab": {
          "base_uri": "https://localhost:8080/"
        }
      },
      "outputs": [
        {
          "output_type": "stream",
          "name": "stdout",
          "text": [
            "Model: \"sequential\"\n",
            "_________________________________________________________________\n",
            " Layer (type)                Output Shape              Param #   \n",
            "=================================================================\n",
            " dense (Dense)               (None, 10)                98250     \n",
            "                                                                 \n",
            " dense_1 (Dense)             (None, 1)                 11        \n",
            "                                                                 \n",
            "=================================================================\n",
            "Total params: 98,261\n",
            "Trainable params: 98,261\n",
            "Non-trainable params: 0\n",
            "_________________________________________________________________\n"
          ]
        }
      ],
      "source": [
        "model.compile(loss='categorical_crossentropy',\n",
        "               optimizer=tf.keras.optimizers.Adam(learning_rate=0.01),\n",
        "               metrics=['accuracy'])\n",
        "model.summary()"
      ],
      "id": "681637aa"
    },
    {
      "cell_type": "code",
      "execution_count": 65,
      "metadata": {
        "id": "fea08897"
      },
      "outputs": [],
      "source": [
        "from keras.backend import clear_session\n",
        "clear_session()"
      ],
      "id": "fea08897"
    },
    {
      "cell_type": "code",
      "execution_count": 66,
      "metadata": {
        "id": "bf20342c"
      },
      "outputs": [],
      "source": [
        "history = model.fit(X_train, y_train,\n",
        "                    epochs=100,\n",
        "                    verbose=False,\n",
        "                    validation_data=(X_test, y_test),\n",
        "                    batch_size=10)"
      ],
      "id": "bf20342c"
    },
    {
      "cell_type": "code",
      "execution_count": 67,
      "metadata": {
        "id": "85a965a5",
        "outputId": "1330c5a8-fa1e-40f9-e4b1-dea43fc8e57b",
        "colab": {
          "base_uri": "https://localhost:8080/"
        }
      },
      "outputs": [
        {
          "output_type": "stream",
          "name": "stdout",
          "text": [
            "24/24 [==============================] - 0s 3ms/step - loss: 0.0000e+00 - accuracy: 0.4698\n",
            "8/8 [==============================] - 0s 3ms/step - loss: 0.0000e+00 - accuracy: 0.4337\n",
            "Train loss: 0.0\n",
            "Train accuracy: 0.46979865431785583\n",
            "Test loss: 0.0\n",
            "Test accuracy: 0.4337349534034729\n"
          ]
        }
      ],
      "source": [
        "train_score = model.evaluate(X_train, y_train)\n",
        "test_score = model.evaluate(X_test, y_test)\n",
        "print('Train loss:', train_score[0])\n",
        "print('Train accuracy:', train_score[1])\n",
        "print('Test loss:', test_score[0])\n",
        "print('Test accuracy:', test_score[1])"
      ],
      "id": "85a965a5"
    },
    {
      "cell_type": "code",
      "execution_count": null,
      "metadata": {
        "id": "9df583d9"
      },
      "outputs": [],
      "source": [
        ""
      ],
      "id": "9df583d9"
    }
  ],
  "metadata": {
    "colab": {
      "name": "Vakeel_Saab_ML_Part1.ipynb",
      "provenance": [],
      "include_colab_link": true
    },
    "kernelspec": {
      "display_name": "Python 3",
      "language": "python",
      "name": "python3"
    },
    "language_info": {
      "codemirror_mode": {
        "name": "ipython",
        "version": 3
      },
      "file_extension": ".py",
      "mimetype": "text/x-python",
      "name": "python",
      "nbconvert_exporter": "python",
      "pygments_lexer": "ipython3",
      "version": "3.7.10"
    },
    "papermill": {
      "default_parameters": {},
      "duration": 911.774313,
      "end_time": "2021-11-21T02:03:23.903714",
      "environment_variables": {},
      "exception": null,
      "input_path": "__notebook__.ipynb",
      "output_path": "__notebook__.ipynb",
      "parameters": {},
      "start_time": "2021-11-21T01:48:12.129401",
      "version": "2.3.3"
    }
  },
  "nbformat": 4,
  "nbformat_minor": 5
}