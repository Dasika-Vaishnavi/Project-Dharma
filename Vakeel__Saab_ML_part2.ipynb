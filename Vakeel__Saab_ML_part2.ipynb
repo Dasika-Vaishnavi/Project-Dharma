{
  "cells": [
    {
      "cell_type": "markdown",
      "metadata": {
        "id": "view-in-github",
        "colab_type": "text"
      },
      "source": [
        "<a href=\"https://colab.research.google.com/github/Dasika-Vaishnavi/Project-Dharma/blob/main/Vakeel__Saab_ML_part2.ipynb\" target=\"_parent\"><img src=\"https://colab.research.google.com/assets/colab-badge.svg\" alt=\"Open In Colab\"/></a>"
      ]
    },
    {
      "cell_type": "markdown",
      "id": "2be8bb25",
      "metadata": {
        "papermill": {
          "duration": 0.017136,
          "end_time": "2021-11-23T02:12:43.894129",
          "exception": false,
          "start_time": "2021-11-23T02:12:43.876993",
          "status": "completed"
        },
        "tags": [],
        "id": "2be8bb25"
      },
      "source": [
        "\n",
        "# I refered to below notebook to try TFIDF and ML classification model\n",
        "# https://www.kaggle.com/selener/multi-class-text-classification-tfidf"
      ]
    },
    {
      "cell_type": "code",
      "execution_count": null,
      "id": "ad3e13d6",
      "metadata": {
        "execution": {
          "iopub.execute_input": "2021-11-23T02:12:43.928332Z",
          "iopub.status.busy": "2021-11-23T02:12:43.926854Z",
          "iopub.status.idle": "2021-11-23T02:12:43.943046Z",
          "shell.execute_reply": "2021-11-23T02:12:43.943895Z"
        },
        "papermill": {
          "duration": 0.035344,
          "end_time": "2021-11-23T02:12:43.944152",
          "exception": false,
          "start_time": "2021-11-23T02:12:43.908808",
          "status": "completed"
        },
        "tags": [],
        "id": "ad3e13d6"
      },
      "outputs": [],
      "source": [
        "import numpy as np # linear algebra\n",
        "import pandas as pd # data processing, CSV file I/O (e.g. pd.read_csv)"
      ]
    },
    {
      "cell_type": "code",
      "execution_count": null,
      "id": "84006c81",
      "metadata": {
        "execution": {
          "iopub.execute_input": "2021-11-23T02:12:43.981959Z",
          "iopub.status.busy": "2021-11-23T02:12:43.981363Z",
          "iopub.status.idle": "2021-11-23T02:12:45.149226Z",
          "shell.execute_reply": "2021-11-23T02:12:45.148712Z",
          "shell.execute_reply.started": "2021-11-23T01:43:56.895278Z"
        },
        "papermill": {
          "duration": 1.189098,
          "end_time": "2021-11-23T02:12:45.149359",
          "exception": false,
          "start_time": "2021-11-23T02:12:43.960261",
          "status": "completed"
        },
        "tags": [],
        "id": "84006c81"
      },
      "outputs": [],
      "source": [
        "from scipy.stats import randint\n",
        "import seaborn as sns # used for plot interactive graph. \n",
        "import matplotlib.pyplot as plt\n",
        "import seaborn as sns\n",
        "from io import StringIO\n",
        "from sklearn.feature_extraction.text import TfidfVectorizer\n",
        "from sklearn.feature_selection import chi2\n",
        "from IPython.display import display\n",
        "from sklearn.model_selection import train_test_split\n",
        "from sklearn.feature_extraction.text import TfidfTransformer\n",
        "from sklearn.naive_bayes import MultinomialNB\n",
        "from sklearn.linear_model import LogisticRegression\n",
        "from sklearn.ensemble import RandomForestClassifier\n",
        "from sklearn.svm import LinearSVC\n",
        "from sklearn.model_selection import cross_val_score\n",
        "from sklearn.metrics import confusion_matrix\n",
        "from sklearn import metrics\n",
        "import warnings\n",
        "warnings.filterwarnings(\"ignore\", category=FutureWarning)"
      ]
    },
    {
      "cell_type": "code",
      "execution_count": null,
      "id": "f0cf97af",
      "metadata": {
        "execution": {
          "iopub.execute_input": "2021-11-23T02:12:45.209983Z",
          "iopub.status.busy": "2021-11-23T02:12:45.209112Z",
          "iopub.status.idle": "2021-11-23T02:12:46.252519Z",
          "shell.execute_reply": "2021-11-23T02:12:46.252989Z",
          "shell.execute_reply.started": "2021-11-23T01:43:57.943844Z"
        },
        "papermill": {
          "duration": 1.073597,
          "end_time": "2021-11-23T02:12:46.253136",
          "exception": false,
          "start_time": "2021-11-23T02:12:45.179539",
          "status": "completed"
        },
        "tags": [],
        "colab": {
          "base_uri": "https://localhost:8080/"
        },
        "id": "f0cf97af",
        "outputId": "fcb43ba9-0b80-4c2a-cc1e-283e547638f7"
      },
      "outputs": [
        {
          "output_type": "execute_result",
          "data": {
            "text/plain": [
              "(998, 4)"
            ]
          },
          "metadata": {},
          "execution_count": 6
        }
      ],
      "source": [
        "df = pd.read_csv('/content/legal_text_classification.csv')\n",
        "df.shape"
      ]
    },
    {
      "cell_type": "code",
      "execution_count": null,
      "id": "565b9cb0",
      "metadata": {
        "execution": {
          "iopub.execute_input": "2021-11-23T02:12:46.290791Z",
          "iopub.status.busy": "2021-11-23T02:12:46.290240Z",
          "iopub.status.idle": "2021-11-23T02:12:46.299476Z",
          "shell.execute_reply": "2021-11-23T02:12:46.299063Z",
          "shell.execute_reply.started": "2021-11-23T01:43:59.083274Z"
        },
        "papermill": {
          "duration": 0.030971,
          "end_time": "2021-11-23T02:12:46.299583",
          "exception": false,
          "start_time": "2021-11-23T02:12:46.268612",
          "status": "completed"
        },
        "tags": [],
        "colab": {
          "base_uri": "https://localhost:8080/",
          "height": 175
        },
        "id": "565b9cb0",
        "outputId": "7bc28c84-a598-414c-d540-3a7daaf05259"
      },
      "outputs": [
        {
          "output_type": "execute_result",
          "data": {
            "text/plain": [
              "                                                              0  \\\n",
              "case_id                                                   Case1   \n",
              "case_outcome                                              cited   \n",
              "case_title    Alpine Hardwood (Aust) Pty Ltd v Hardys Pty Lt...   \n",
              "case_text     Ordinarily that discretion will be exercised s...   \n",
              "\n",
              "                                                              1  \n",
              "case_id                                                   Case2  \n",
              "case_outcome                                              cited  \n",
              "case_title    Black v Lipovac [1998] FCA 699 ; (1998) 217 AL...  \n",
              "case_text     The general principles governing the exercise ...  "
            ],
            "text/html": [
              "\n",
              "  <div id=\"df-ab039013-58d9-4998-9760-8abe515348c7\">\n",
              "    <div class=\"colab-df-container\">\n",
              "      <div>\n",
              "<style scoped>\n",
              "    .dataframe tbody tr th:only-of-type {\n",
              "        vertical-align: middle;\n",
              "    }\n",
              "\n",
              "    .dataframe tbody tr th {\n",
              "        vertical-align: top;\n",
              "    }\n",
              "\n",
              "    .dataframe thead th {\n",
              "        text-align: right;\n",
              "    }\n",
              "</style>\n",
              "<table border=\"1\" class=\"dataframe\">\n",
              "  <thead>\n",
              "    <tr style=\"text-align: right;\">\n",
              "      <th></th>\n",
              "      <th>0</th>\n",
              "      <th>1</th>\n",
              "    </tr>\n",
              "  </thead>\n",
              "  <tbody>\n",
              "    <tr>\n",
              "      <th>case_id</th>\n",
              "      <td>Case1</td>\n",
              "      <td>Case2</td>\n",
              "    </tr>\n",
              "    <tr>\n",
              "      <th>case_outcome</th>\n",
              "      <td>cited</td>\n",
              "      <td>cited</td>\n",
              "    </tr>\n",
              "    <tr>\n",
              "      <th>case_title</th>\n",
              "      <td>Alpine Hardwood (Aust) Pty Ltd v Hardys Pty Lt...</td>\n",
              "      <td>Black v Lipovac [1998] FCA 699 ; (1998) 217 AL...</td>\n",
              "    </tr>\n",
              "    <tr>\n",
              "      <th>case_text</th>\n",
              "      <td>Ordinarily that discretion will be exercised s...</td>\n",
              "      <td>The general principles governing the exercise ...</td>\n",
              "    </tr>\n",
              "  </tbody>\n",
              "</table>\n",
              "</div>\n",
              "      <button class=\"colab-df-convert\" onclick=\"convertToInteractive('df-ab039013-58d9-4998-9760-8abe515348c7')\"\n",
              "              title=\"Convert this dataframe to an interactive table.\"\n",
              "              style=\"display:none;\">\n",
              "        \n",
              "  <svg xmlns=\"http://www.w3.org/2000/svg\" height=\"24px\"viewBox=\"0 0 24 24\"\n",
              "       width=\"24px\">\n",
              "    <path d=\"M0 0h24v24H0V0z\" fill=\"none\"/>\n",
              "    <path d=\"M18.56 5.44l.94 2.06.94-2.06 2.06-.94-2.06-.94-.94-2.06-.94 2.06-2.06.94zm-11 1L8.5 8.5l.94-2.06 2.06-.94-2.06-.94L8.5 2.5l-.94 2.06-2.06.94zm10 10l.94 2.06.94-2.06 2.06-.94-2.06-.94-.94-2.06-.94 2.06-2.06.94z\"/><path d=\"M17.41 7.96l-1.37-1.37c-.4-.4-.92-.59-1.43-.59-.52 0-1.04.2-1.43.59L10.3 9.45l-7.72 7.72c-.78.78-.78 2.05 0 2.83L4 21.41c.39.39.9.59 1.41.59.51 0 1.02-.2 1.41-.59l7.78-7.78 2.81-2.81c.8-.78.8-2.07 0-2.86zM5.41 20L4 18.59l7.72-7.72 1.47 1.35L5.41 20z\"/>\n",
              "  </svg>\n",
              "      </button>\n",
              "      \n",
              "  <style>\n",
              "    .colab-df-container {\n",
              "      display:flex;\n",
              "      flex-wrap:wrap;\n",
              "      gap: 12px;\n",
              "    }\n",
              "\n",
              "    .colab-df-convert {\n",
              "      background-color: #E8F0FE;\n",
              "      border: none;\n",
              "      border-radius: 50%;\n",
              "      cursor: pointer;\n",
              "      display: none;\n",
              "      fill: #1967D2;\n",
              "      height: 32px;\n",
              "      padding: 0 0 0 0;\n",
              "      width: 32px;\n",
              "    }\n",
              "\n",
              "    .colab-df-convert:hover {\n",
              "      background-color: #E2EBFA;\n",
              "      box-shadow: 0px 1px 2px rgba(60, 64, 67, 0.3), 0px 1px 3px 1px rgba(60, 64, 67, 0.15);\n",
              "      fill: #174EA6;\n",
              "    }\n",
              "\n",
              "    [theme=dark] .colab-df-convert {\n",
              "      background-color: #3B4455;\n",
              "      fill: #D2E3FC;\n",
              "    }\n",
              "\n",
              "    [theme=dark] .colab-df-convert:hover {\n",
              "      background-color: #434B5C;\n",
              "      box-shadow: 0px 1px 3px 1px rgba(0, 0, 0, 0.15);\n",
              "      filter: drop-shadow(0px 1px 2px rgba(0, 0, 0, 0.3));\n",
              "      fill: #FFFFFF;\n",
              "    }\n",
              "  </style>\n",
              "\n",
              "      <script>\n",
              "        const buttonEl =\n",
              "          document.querySelector('#df-ab039013-58d9-4998-9760-8abe515348c7 button.colab-df-convert');\n",
              "        buttonEl.style.display =\n",
              "          google.colab.kernel.accessAllowed ? 'block' : 'none';\n",
              "\n",
              "        async function convertToInteractive(key) {\n",
              "          const element = document.querySelector('#df-ab039013-58d9-4998-9760-8abe515348c7');\n",
              "          const dataTable =\n",
              "            await google.colab.kernel.invokeFunction('convertToInteractive',\n",
              "                                                     [key], {});\n",
              "          if (!dataTable) return;\n",
              "\n",
              "          const docLinkHtml = 'Like what you see? Visit the ' +\n",
              "            '<a target=\"_blank\" href=https://colab.research.google.com/notebooks/data_table.ipynb>data table notebook</a>'\n",
              "            + ' to learn more about interactive tables.';\n",
              "          element.innerHTML = '';\n",
              "          dataTable['output_type'] = 'display_data';\n",
              "          await google.colab.output.renderOutput(dataTable, element);\n",
              "          const docLink = document.createElement('div');\n",
              "          docLink.innerHTML = docLinkHtml;\n",
              "          element.appendChild(docLink);\n",
              "        }\n",
              "      </script>\n",
              "    </div>\n",
              "  </div>\n",
              "  "
            ]
          },
          "metadata": {},
          "execution_count": 7
        }
      ],
      "source": [
        "df.head(2).T"
      ]
    },
    {
      "cell_type": "code",
      "execution_count": null,
      "id": "8079138a",
      "metadata": {
        "execution": {
          "iopub.execute_input": "2021-11-23T02:12:46.341728Z",
          "iopub.status.busy": "2021-11-23T02:12:46.341051Z",
          "iopub.status.idle": "2021-11-23T02:12:46.353749Z",
          "shell.execute_reply": "2021-11-23T02:12:46.353310Z",
          "shell.execute_reply.started": "2021-11-23T01:43:59.100978Z"
        },
        "papermill": {
          "duration": 0.038631,
          "end_time": "2021-11-23T02:12:46.353862",
          "exception": false,
          "start_time": "2021-11-23T02:12:46.315231",
          "status": "completed"
        },
        "tags": [],
        "colab": {
          "base_uri": "https://localhost:8080/"
        },
        "id": "8079138a",
        "outputId": "3961d87c-f21f-4874-b58d-14c355c3dbd9"
      },
      "outputs": [
        {
          "output_type": "execute_result",
          "data": {
            "text/plain": [
              "(994, 2)"
            ]
          },
          "metadata": {},
          "execution_count": 8
        }
      ],
      "source": [
        "df1 = df[['case_outcome', 'case_text']].copy()\n",
        "\n",
        "# Remove missing values (NaN)\n",
        "df1 = df1[pd.notnull(df1['case_text'])]\n",
        "\n",
        "# Renaming second column for a simpler name\n",
        "df1.columns = ['Outcome', 'Text'] \n",
        "\n",
        "df1.shape"
      ]
    },
    {
      "cell_type": "code",
      "execution_count": null,
      "id": "c3a3697d",
      "metadata": {
        "execution": {
          "iopub.execute_input": "2021-11-23T02:12:46.394317Z",
          "iopub.status.busy": "2021-11-23T02:12:46.393528Z",
          "iopub.status.idle": "2021-11-23T02:12:46.396968Z",
          "shell.execute_reply": "2021-11-23T02:12:46.396496Z",
          "shell.execute_reply.started": "2021-11-23T01:43:59.122339Z"
        },
        "papermill": {
          "duration": 0.026837,
          "end_time": "2021-11-23T02:12:46.397072",
          "exception": false,
          "start_time": "2021-11-23T02:12:46.370235",
          "status": "completed"
        },
        "tags": [],
        "colab": {
          "base_uri": "https://localhost:8080/"
        },
        "id": "c3a3697d",
        "outputId": "75fe5e3c-5484-4d59-c4e8-bb26f42964cb"
      },
      "outputs": [
        {
          "output_type": "execute_result",
          "data": {
            "text/plain": [
              "99.6"
            ]
          },
          "metadata": {},
          "execution_count": 9
        }
      ],
      "source": [
        "total = df1['Text'].notnull().sum()\n",
        "round((total/len(df)*100),1)"
      ]
    },
    {
      "cell_type": "code",
      "execution_count": null,
      "id": "ec16c342",
      "metadata": {
        "execution": {
          "iopub.execute_input": "2021-11-23T02:12:46.435625Z",
          "iopub.status.busy": "2021-11-23T02:12:46.434841Z",
          "iopub.status.idle": "2021-11-23T02:12:46.439642Z",
          "shell.execute_reply": "2021-11-23T02:12:46.440076Z",
          "shell.execute_reply.started": "2021-11-23T01:43:59.134516Z"
        },
        "papermill": {
          "duration": 0.026477,
          "end_time": "2021-11-23T02:12:46.440196",
          "exception": false,
          "start_time": "2021-11-23T02:12:46.413719",
          "status": "completed"
        },
        "tags": [],
        "colab": {
          "base_uri": "https://localhost:8080/"
        },
        "id": "ec16c342",
        "outputId": "3aa1e531-9de1-4df8-c202-7044bdacb57d"
      },
      "outputs": [
        {
          "output_type": "execute_result",
          "data": {
            "text/plain": [
              "array([['cited'],\n",
              "       ['applied'],\n",
              "       ['followed'],\n",
              "       ['referred to'],\n",
              "       ['related'],\n",
              "       ['considered'],\n",
              "       ['discussed'],\n",
              "       ['distinguished'],\n",
              "       ['affirmed']], dtype=object)"
            ]
          },
          "metadata": {},
          "execution_count": 10
        }
      ],
      "source": [
        "pd.DataFrame(df.case_outcome.unique()).values"
      ]
    },
    {
      "cell_type": "code",
      "execution_count": null,
      "id": "98ab3c8b",
      "metadata": {
        "execution": {
          "iopub.execute_input": "2021-11-23T02:12:46.479177Z",
          "iopub.status.busy": "2021-11-23T02:12:46.478638Z",
          "iopub.status.idle": "2021-11-23T02:12:46.482269Z",
          "shell.execute_reply": "2021-11-23T02:12:46.481826Z",
          "shell.execute_reply.started": "2021-11-23T01:43:59.146974Z"
        },
        "papermill": {
          "duration": 0.025823,
          "end_time": "2021-11-23T02:12:46.482373",
          "exception": false,
          "start_time": "2021-11-23T02:12:46.456550",
          "status": "completed"
        },
        "tags": [],
        "id": "98ab3c8b"
      },
      "outputs": [],
      "source": [
        "df2 = df1.sample(5000, random_state=1, replace=True).copy()"
      ]
    },
    {
      "cell_type": "code",
      "execution_count": null,
      "id": "c209cfe3",
      "metadata": {
        "execution": {
          "iopub.execute_input": "2021-11-23T02:12:46.522807Z",
          "iopub.status.busy": "2021-11-23T02:12:46.522198Z",
          "iopub.status.idle": "2021-11-23T02:12:46.532018Z",
          "shell.execute_reply": "2021-11-23T02:12:46.532772Z",
          "shell.execute_reply.started": "2021-11-23T01:43:59.156314Z"
        },
        "papermill": {
          "duration": 0.034393,
          "end_time": "2021-11-23T02:12:46.532914",
          "exception": false,
          "start_time": "2021-11-23T02:12:46.498521",
          "status": "completed"
        },
        "tags": [],
        "colab": {
          "base_uri": "https://localhost:8080/",
          "height": 206
        },
        "id": "c209cfe3",
        "outputId": "5a1bd312-4640-4a2e-d8d9-c1ac94c98282"
      },
      "outputs": [
        {
          "output_type": "execute_result",
          "data": {
            "text/plain": [
              "         Outcome                                               Text  \\\n",
              "38         cited  Numerous cases have held that s 911A of the Ac...   \n",
              "237        cited  Later, at 552-553, Menzies J said: The differe...   \n",
              "910     followed  appellant submits that the approach of the Tri...   \n",
              "73         cited  Matters of policy and implementation of policy...   \n",
              "769  referred to  The next question is whether the error of the ...   \n",
              "\n",
              "     category_id  \n",
              "38             0  \n",
              "237            0  \n",
              "910            1  \n",
              "73             0  \n",
              "769            2  "
            ],
            "text/html": [
              "\n",
              "  <div id=\"df-29fb6495-7afa-4e06-b828-f093238cfc47\">\n",
              "    <div class=\"colab-df-container\">\n",
              "      <div>\n",
              "<style scoped>\n",
              "    .dataframe tbody tr th:only-of-type {\n",
              "        vertical-align: middle;\n",
              "    }\n",
              "\n",
              "    .dataframe tbody tr th {\n",
              "        vertical-align: top;\n",
              "    }\n",
              "\n",
              "    .dataframe thead th {\n",
              "        text-align: right;\n",
              "    }\n",
              "</style>\n",
              "<table border=\"1\" class=\"dataframe\">\n",
              "  <thead>\n",
              "    <tr style=\"text-align: right;\">\n",
              "      <th></th>\n",
              "      <th>Outcome</th>\n",
              "      <th>Text</th>\n",
              "      <th>category_id</th>\n",
              "    </tr>\n",
              "  </thead>\n",
              "  <tbody>\n",
              "    <tr>\n",
              "      <th>38</th>\n",
              "      <td>cited</td>\n",
              "      <td>Numerous cases have held that s 911A of the Ac...</td>\n",
              "      <td>0</td>\n",
              "    </tr>\n",
              "    <tr>\n",
              "      <th>237</th>\n",
              "      <td>cited</td>\n",
              "      <td>Later, at 552-553, Menzies J said: The differe...</td>\n",
              "      <td>0</td>\n",
              "    </tr>\n",
              "    <tr>\n",
              "      <th>910</th>\n",
              "      <td>followed</td>\n",
              "      <td>appellant submits that the approach of the Tri...</td>\n",
              "      <td>1</td>\n",
              "    </tr>\n",
              "    <tr>\n",
              "      <th>73</th>\n",
              "      <td>cited</td>\n",
              "      <td>Matters of policy and implementation of policy...</td>\n",
              "      <td>0</td>\n",
              "    </tr>\n",
              "    <tr>\n",
              "      <th>769</th>\n",
              "      <td>referred to</td>\n",
              "      <td>The next question is whether the error of the ...</td>\n",
              "      <td>2</td>\n",
              "    </tr>\n",
              "  </tbody>\n",
              "</table>\n",
              "</div>\n",
              "      <button class=\"colab-df-convert\" onclick=\"convertToInteractive('df-29fb6495-7afa-4e06-b828-f093238cfc47')\"\n",
              "              title=\"Convert this dataframe to an interactive table.\"\n",
              "              style=\"display:none;\">\n",
              "        \n",
              "  <svg xmlns=\"http://www.w3.org/2000/svg\" height=\"24px\"viewBox=\"0 0 24 24\"\n",
              "       width=\"24px\">\n",
              "    <path d=\"M0 0h24v24H0V0z\" fill=\"none\"/>\n",
              "    <path d=\"M18.56 5.44l.94 2.06.94-2.06 2.06-.94-2.06-.94-.94-2.06-.94 2.06-2.06.94zm-11 1L8.5 8.5l.94-2.06 2.06-.94-2.06-.94L8.5 2.5l-.94 2.06-2.06.94zm10 10l.94 2.06.94-2.06 2.06-.94-2.06-.94-.94-2.06-.94 2.06-2.06.94z\"/><path d=\"M17.41 7.96l-1.37-1.37c-.4-.4-.92-.59-1.43-.59-.52 0-1.04.2-1.43.59L10.3 9.45l-7.72 7.72c-.78.78-.78 2.05 0 2.83L4 21.41c.39.39.9.59 1.41.59.51 0 1.02-.2 1.41-.59l7.78-7.78 2.81-2.81c.8-.78.8-2.07 0-2.86zM5.41 20L4 18.59l7.72-7.72 1.47 1.35L5.41 20z\"/>\n",
              "  </svg>\n",
              "      </button>\n",
              "      \n",
              "  <style>\n",
              "    .colab-df-container {\n",
              "      display:flex;\n",
              "      flex-wrap:wrap;\n",
              "      gap: 12px;\n",
              "    }\n",
              "\n",
              "    .colab-df-convert {\n",
              "      background-color: #E8F0FE;\n",
              "      border: none;\n",
              "      border-radius: 50%;\n",
              "      cursor: pointer;\n",
              "      display: none;\n",
              "      fill: #1967D2;\n",
              "      height: 32px;\n",
              "      padding: 0 0 0 0;\n",
              "      width: 32px;\n",
              "    }\n",
              "\n",
              "    .colab-df-convert:hover {\n",
              "      background-color: #E2EBFA;\n",
              "      box-shadow: 0px 1px 2px rgba(60, 64, 67, 0.3), 0px 1px 3px 1px rgba(60, 64, 67, 0.15);\n",
              "      fill: #174EA6;\n",
              "    }\n",
              "\n",
              "    [theme=dark] .colab-df-convert {\n",
              "      background-color: #3B4455;\n",
              "      fill: #D2E3FC;\n",
              "    }\n",
              "\n",
              "    [theme=dark] .colab-df-convert:hover {\n",
              "      background-color: #434B5C;\n",
              "      box-shadow: 0px 1px 3px 1px rgba(0, 0, 0, 0.15);\n",
              "      filter: drop-shadow(0px 1px 2px rgba(0, 0, 0, 0.3));\n",
              "      fill: #FFFFFF;\n",
              "    }\n",
              "  </style>\n",
              "\n",
              "      <script>\n",
              "        const buttonEl =\n",
              "          document.querySelector('#df-29fb6495-7afa-4e06-b828-f093238cfc47 button.colab-df-convert');\n",
              "        buttonEl.style.display =\n",
              "          google.colab.kernel.accessAllowed ? 'block' : 'none';\n",
              "\n",
              "        async function convertToInteractive(key) {\n",
              "          const element = document.querySelector('#df-29fb6495-7afa-4e06-b828-f093238cfc47');\n",
              "          const dataTable =\n",
              "            await google.colab.kernel.invokeFunction('convertToInteractive',\n",
              "                                                     [key], {});\n",
              "          if (!dataTable) return;\n",
              "\n",
              "          const docLinkHtml = 'Like what you see? Visit the ' +\n",
              "            '<a target=\"_blank\" href=https://colab.research.google.com/notebooks/data_table.ipynb>data table notebook</a>'\n",
              "            + ' to learn more about interactive tables.';\n",
              "          element.innerHTML = '';\n",
              "          dataTable['output_type'] = 'display_data';\n",
              "          await google.colab.output.renderOutput(dataTable, element);\n",
              "          const docLink = document.createElement('div');\n",
              "          docLink.innerHTML = docLinkHtml;\n",
              "          element.appendChild(docLink);\n",
              "        }\n",
              "      </script>\n",
              "    </div>\n",
              "  </div>\n",
              "  "
            ]
          },
          "metadata": {},
          "execution_count": 12
        }
      ],
      "source": [
        "df2['category_id'] = df2['Outcome'].factorize()[0]\n",
        "category_id_df = df2[['Outcome', 'category_id']].drop_duplicates()\n",
        "\n",
        "\n",
        "category_to_id = dict(category_id_df.values)\n",
        "id_to_category = dict(category_id_df[['category_id', 'Outcome']].values)\n",
        "\n",
        "df2.head()"
      ]
    },
    {
      "cell_type": "code",
      "execution_count": null,
      "id": "d27d9650",
      "metadata": {
        "execution": {
          "iopub.execute_input": "2021-11-23T02:12:46.571142Z",
          "iopub.status.busy": "2021-11-23T02:12:46.570347Z",
          "iopub.status.idle": "2021-11-23T02:12:46.934123Z",
          "shell.execute_reply": "2021-11-23T02:12:46.934701Z",
          "shell.execute_reply.started": "2021-11-23T01:43:59.178522Z"
        },
        "papermill": {
          "duration": 0.385547,
          "end_time": "2021-11-23T02:12:46.934960",
          "exception": false,
          "start_time": "2021-11-23T02:12:46.549413",
          "status": "completed"
        },
        "tags": [],
        "colab": {
          "base_uri": "https://localhost:8080/",
          "height": 421
        },
        "id": "d27d9650",
        "outputId": "1c19e582-d241-4ec0-9aa2-96e7421f0657"
      },
      "outputs": [
        {
          "output_type": "execute_result",
          "data": {
            "text/plain": [
              "Text(0.5, 0, 'Number of ocurrences')"
            ]
          },
          "metadata": {},
          "execution_count": 13
        },
        {
          "output_type": "display_data",
          "data": {
            "text/plain": [
              "<Figure size 576x432 with 1 Axes>"
            ],
            "image/png": "[encoded data removed]"
          },
          "metadata": {
            "needs_background": "light"
          }
        }
      ],
      "source": [
        "fig = plt.figure(figsize=(8,6))\n",
        "colors = ['grey','grey','grey','grey','grey','grey','grey','darkblue','darkblue','darkblue']\n",
        "df2.groupby('Outcome').Text.count().sort_values().plot.barh(ylim=0, color=colors, title= 'COUNT OF EACH CATEGRIES')\n",
        "plt.xlabel('Number of ocurrences', fontsize = 10)"
      ]
    },
    {
      "cell_type": "code",
      "execution_count": null,
      "id": "80677e83",
      "metadata": {
        "execution": {
          "iopub.execute_input": "2021-11-23T02:12:47.022508Z",
          "iopub.status.busy": "2021-11-23T02:12:47.021712Z",
          "iopub.status.idle": "2021-11-23T02:12:51.898555Z",
          "shell.execute_reply": "2021-11-23T02:12:51.898122Z",
          "shell.execute_reply.started": "2021-11-23T01:43:59.459651Z"
        },
        "papermill": {
          "duration": 4.929504,
          "end_time": "2021-11-23T02:12:51.898680",
          "exception": false,
          "start_time": "2021-11-23T02:12:46.969176",
          "status": "completed"
        },
        "tags": [],
        "colab": {
          "base_uri": "https://localhost:8080/"
        },
        "id": "80677e83",
        "outputId": "ec5ce631-04bd-464f-d1b6-8aa2805eed25"
      },
      "outputs": [
        {
          "output_type": "stream",
          "name": "stdout",
          "text": [
            "Each of the 5000 Text is represented by 64342 features (TF-IDF score of unigrams and bigrams)\n"
          ]
        }
      ],
      "source": [
        "tfidf = TfidfVectorizer(sublinear_tf=True, min_df=5,\n",
        "                        ngram_range=(1, 2), \n",
        "                        stop_words='english')\n",
        "\n",
        "\n",
        "features = tfidf.fit_transform(df2.Text).toarray()\n",
        "\n",
        "labels = df2.category_id\n",
        "\n",
        "print(\"Each of the %d Text is represented by %d features (TF-IDF score of unigrams and bigrams)\" %(features.shape))"
      ]
    },
    {
      "cell_type": "code",
      "execution_count": null,
      "id": "c85cc319",
      "metadata": {
        "execution": {
          "iopub.execute_input": "2021-11-23T02:12:51.942469Z",
          "iopub.status.busy": "2021-11-23T02:12:51.941944Z",
          "iopub.status.idle": "2021-11-23T02:13:01.808479Z",
          "shell.execute_reply": "2021-11-23T02:13:01.807910Z",
          "shell.execute_reply.started": "2021-11-23T01:44:04.390467Z"
        },
        "papermill": {
          "duration": 9.891145,
          "end_time": "2021-11-23T02:13:01.808605",
          "exception": false,
          "start_time": "2021-11-23T02:12:51.917460",
          "status": "completed"
        },
        "tags": [],
        "colab": {
          "base_uri": "https://localhost:8080/"
        },
        "id": "c85cc319",
        "outputId": "38d09ed1-8541-4b89-a4c2-9cac5857ae23"
      },
      "outputs": [
        {
          "output_type": "stream",
          "name": "stdout",
          "text": [
            "\n",
            "==> affirmed:\n",
            "  * Most Correlated Unigrams are: kosovo, forced, loan\n",
            "  * Most Correlated Bigrams are: proceedings fact, conveniently 17, subject present\n",
            "\n",
            "==> applied:\n",
            "  * Most Correlated Unigrams are: mzwqh, mzwxc, relitigate\n",
            "  * Most Correlated Bigrams are: attempt relitigate, unlawful discrimination, claim unlawful\n",
            "\n",
            "==> cited:\n",
            "  * Most Correlated Unigrams are: jennings, bankruptcy, health\n",
            "  * Most Correlated Bigrams are: litigation privilege, bankruptcy notice, health plus\n",
            "\n",
            "==> considered:\n",
            "  * Most Correlated Unigrams are: 170eha, fenech, jr\n",
            "  * Most Correlated Bigrams are: genuine dispute, unreported industrial, relations court\n",
            "\n",
            "==> discussed:\n",
            "  * Most Correlated Unigrams are: fees, stevenson, jolly\n",
            "  * Most Correlated Bigrams are: stevenson 1937, clr 80, dividend debt\n",
            "\n",
            "==> distinguished:\n",
            "  * Most Correlated Unigrams are: stake, 673, matthew\n",
            "  * Most Correlated Bigrams are: right special, special applicant, private right\n",
            "\n",
            "==> followed:\n",
            "  * Most Correlated Unigrams are: creditor, abc, debtor\n",
            "  * Most Correlated Bigrams are: bankruptcy proceedings, judgment debtor, bankruptcy notice\n",
            "\n",
            "==> referred to:\n",
            "  * Most Correlated Unigrams are: plus, johnson, armitage\n",
            "  * Most Correlated Bigrams are: performing right, respondents application, apparent bias\n",
            "\n",
            "==> related:\n",
            "  * Most Correlated Unigrams are: midnight, convening, administrators\n",
            "  * Most Correlated Bigrams are: capital reserve, limited administrators, administrators appointed\n"
          ]
        }
      ],
      "source": [
        "N = 3\n",
        "for Outcome, category_id in sorted(category_to_id.items()):\n",
        "  features_chi2 = chi2(features, labels == category_id)\n",
        "  indices = np.argsort(features_chi2[0])\n",
        "  feature_names = np.array(tfidf.get_feature_names())[indices]\n",
        "  unigrams = [v for v in feature_names if len(v.split(' ')) == 1]\n",
        "  bigrams = [v for v in feature_names if len(v.split(' ')) == 2]\n",
        "  print(\"\\n==> %s:\" %(Outcome))\n",
        "  print(\"  * Most Correlated Unigrams are: %s\" %(', '.join(unigrams[-N:])))\n",
        "  print(\"  * Most Correlated Bigrams are: %s\" %(', '.join(bigrams[-N:])))"
      ]
    },
    {
      "cell_type": "code",
      "execution_count": null,
      "id": "18ddfa40",
      "metadata": {
        "execution": {
          "iopub.execute_input": "2021-11-23T02:13:01.856161Z",
          "iopub.status.busy": "2021-11-23T02:13:01.852789Z",
          "iopub.status.idle": "2021-11-23T02:13:01.859973Z",
          "shell.execute_reply": "2021-11-23T02:13:01.860353Z",
          "shell.execute_reply.started": "2021-11-23T01:44:13.973152Z"
        },
        "papermill": {
          "duration": 0.030717,
          "end_time": "2021-11-23T02:13:01.860488",
          "exception": false,
          "start_time": "2021-11-23T02:13:01.829771",
          "status": "completed"
        },
        "tags": [],
        "id": "18ddfa40"
      },
      "outputs": [],
      "source": [
        "X = df2['Text']\n",
        "y = df2['Outcome']\n",
        "\n",
        "X_train, X_test, y_train, y_test = train_test_split(X, y, \n",
        "                                                    test_size=0.25,\n",
        "                                                    random_state = 0)"
      ]
    },
    {
      "cell_type": "code",
      "execution_count": null,
      "id": "be8bc8f9",
      "metadata": {
        "_kg_hide-output": true,
        "execution": {
          "iopub.execute_input": "2021-11-23T02:13:01.909822Z",
          "iopub.status.busy": "2021-11-23T02:13:01.909317Z",
          "iopub.status.idle": "2021-11-23T02:22:02.364333Z",
          "shell.execute_reply": "2021-11-23T02:22:02.365737Z",
          "shell.execute_reply.started": "2021-11-23T01:44:13.982614Z"
        },
        "papermill": {
          "duration": 540.483993,
          "end_time": "2021-11-23T02:22:02.366109",
          "exception": false,
          "start_time": "2021-11-23T02:13:01.882116",
          "status": "completed"
        },
        "tags": [],
        "colab": {
          "base_uri": "https://localhost:8080/"
        },
        "id": "be8bc8f9",
        "outputId": "47a80e1b-dcc4-435b-be2b-e523a0ab9f20"
      },
      "outputs": [
        {
          "output_type": "stream",
          "name": "stderr",
          "text": [
            "/usr/local/lib/python3.7/dist-packages/sklearn/linear_model/_logistic.py:818: ConvergenceWarning: lbfgs failed to converge (status=1):\n",
            "STOP: TOTAL NO. of ITERATIONS REACHED LIMIT.\n",
            "\n",
            "Increase the number of iterations (max_iter) or scale the data as shown in:\n",
            "    https://scikit-learn.org/stable/modules/preprocessing.html\n",
            "Please also refer to the documentation for alternative solver options:\n",
            "    https://scikit-learn.org/stable/modules/linear_model.html#logistic-regression\n",
            "  extra_warning_msg=_LOGISTIC_SOLVER_CONVERGENCE_MSG,\n"
          ]
        }
      ],
      "source": [
        "models = [\n",
        "    RandomForestClassifier(n_estimators=100, max_depth=5, random_state=0),\n",
        "    LinearSVC(),\n",
        "    MultinomialNB(),\n",
        "    LogisticRegression(random_state=0),\n",
        "]\n",
        "\n",
        "CV = 5\n",
        "cv_df = pd.DataFrame(index=range(CV * len(models)))\n",
        "\n",
        "entries = []\n",
        "for model in models:\n",
        "  model_name = model.__class__.__name__\n",
        "  accuracies = cross_val_score(model, features, labels, scoring='accuracy', cv=CV)\n",
        "  for fold_idx, accuracy in enumerate(accuracies):\n",
        "    entries.append((model_name, fold_idx, accuracy))\n",
        "    \n",
        "cv_df = pd.DataFrame(entries, columns=['model_name', 'fold_idx', 'accuracy'])"
      ]
    },
    {
      "cell_type": "code",
      "execution_count": null,
      "id": "0ccbf2e1",
      "metadata": {
        "execution": {
          "iopub.execute_input": "2021-11-23T02:22:02.458104Z",
          "iopub.status.busy": "2021-11-23T02:22:02.457176Z",
          "iopub.status.idle": "2021-11-23T02:22:02.475529Z",
          "shell.execute_reply": "2021-11-23T02:22:02.476630Z",
          "shell.execute_reply.started": "2021-11-23T01:54:12.887686Z"
        },
        "papermill": {
          "duration": 0.069268,
          "end_time": "2021-11-23T02:22:02.476917",
          "exception": false,
          "start_time": "2021-11-23T02:22:02.407649",
          "status": "completed"
        },
        "tags": [],
        "colab": {
          "base_uri": "https://localhost:8080/",
          "height": 206
        },
        "id": "0ccbf2e1",
        "outputId": "c364fd75-46fc-4671-ea4d-de47df5cf0f3"
      },
      "outputs": [
        {
          "output_type": "execute_result",
          "data": {
            "text/plain": [
              "                        Mean Accuracy  Standard deviation\n",
              "model_name                                               \n",
              "LinearSVC                      0.9398            0.006419\n",
              "LogisticRegression             0.8996            0.008355\n",
              "MultinomialNB                  0.8122            0.002049\n",
              "RandomForestClassifier         0.5070            0.008000"
            ],
            "text/html": [
              "\n",
              "  <div id=\"df-d1ccf9ff-559f-4145-8da0-ed872e895938\">\n",
              "    <div class=\"colab-df-container\">\n",
              "      <div>\n",
              "<style scoped>\n",
              "    .dataframe tbody tr th:only-of-type {\n",
              "        vertical-align: middle;\n",
              "    }\n",
              "\n",
              "    .dataframe tbody tr th {\n",
              "        vertical-align: top;\n",
              "    }\n",
              "\n",
              "    .dataframe thead th {\n",
              "        text-align: right;\n",
              "    }\n",
              "</style>\n",
              "<table border=\"1\" class=\"dataframe\">\n",
              "  <thead>\n",
              "    <tr style=\"text-align: right;\">\n",
              "      <th></th>\n",
              "      <th>Mean Accuracy</th>\n",
              "      <th>Standard deviation</th>\n",
              "    </tr>\n",
              "    <tr>\n",
              "      <th>model_name</th>\n",
              "      <th></th>\n",
              "      <th></th>\n",
              "    </tr>\n",
              "  </thead>\n",
              "  <tbody>\n",
              "    <tr>\n",
              "      <th>LinearSVC</th>\n",
              "      <td>0.9398</td>\n",
              "      <td>0.006419</td>\n",
              "    </tr>\n",
              "    <tr>\n",
              "      <th>LogisticRegression</th>\n",
              "      <td>0.8996</td>\n",
              "      <td>0.008355</td>\n",
              "    </tr>\n",
              "    <tr>\n",
              "      <th>MultinomialNB</th>\n",
              "      <td>0.8122</td>\n",
              "      <td>0.002049</td>\n",
              "    </tr>\n",
              "    <tr>\n",
              "      <th>RandomForestClassifier</th>\n",
              "      <td>0.5070</td>\n",
              "      <td>0.008000</td>\n",
              "    </tr>\n",
              "  </tbody>\n",
              "</table>\n",
              "</div>\n",
              "      <button class=\"colab-df-convert\" onclick=\"convertToInteractive('df-d1ccf9ff-559f-4145-8da0-ed872e895938')\"\n",
              "              title=\"Convert this dataframe to an interactive table.\"\n",
              "              style=\"display:none;\">\n",
              "        \n",
              "  <svg xmlns=\"http://www.w3.org/2000/svg\" height=\"24px\"viewBox=\"0 0 24 24\"\n",
              "       width=\"24px\">\n",
              "    <path d=\"M0 0h24v24H0V0z\" fill=\"none\"/>\n",
              "    <path d=\"M18.56 5.44l.94 2.06.94-2.06 2.06-.94-2.06-.94-.94-2.06-.94 2.06-2.06.94zm-11 1L8.5 8.5l.94-2.06 2.06-.94-2.06-.94L8.5 2.5l-.94 2.06-2.06.94zm10 10l.94 2.06.94-2.06 2.06-.94-2.06-.94-.94-2.06-.94 2.06-2.06.94z\"/><path d=\"M17.41 7.96l-1.37-1.37c-.4-.4-.92-.59-1.43-.59-.52 0-1.04.2-1.43.59L10.3 9.45l-7.72 7.72c-.78.78-.78 2.05 0 2.83L4 21.41c.39.39.9.59 1.41.59.51 0 1.02-.2 1.41-.59l7.78-7.78 2.81-2.81c.8-.78.8-2.07 0-2.86zM5.41 20L4 18.59l7.72-7.72 1.47 1.35L5.41 20z\"/>\n",
              "  </svg>\n",
              "      </button>\n",
              "      \n",
              "  <style>\n",
              "    .colab-df-container {\n",
              "      display:flex;\n",
              "      flex-wrap:wrap;\n",
              "      gap: 12px;\n",
              "    }\n",
              "\n",
              "    .colab-df-convert {\n",
              "      background-color: #E8F0FE;\n",
              "      border: none;\n",
              "      border-radius: 50%;\n",
              "      cursor: pointer;\n",
              "      display: none;\n",
              "      fill: #1967D2;\n",
              "      height: 32px;\n",
              "      padding: 0 0 0 0;\n",
              "      width: 32px;\n",
              "    }\n",
              "\n",
              "    .colab-df-convert:hover {\n",
              "      background-color: #E2EBFA;\n",
              "      box-shadow: 0px 1px 2px rgba(60, 64, 67, 0.3), 0px 1px 3px 1px rgba(60, 64, 67, 0.15);\n",
              "      fill: #174EA6;\n",
              "    }\n",
              "\n",
              "    [theme=dark] .colab-df-convert {\n",
              "      background-color: #3B4455;\n",
              "      fill: #D2E3FC;\n",
              "    }\n",
              "\n",
              "    [theme=dark] .colab-df-convert:hover {\n",
              "      background-color: #434B5C;\n",
              "      box-shadow: 0px 1px 3px 1px rgba(0, 0, 0, 0.15);\n",
              "      filter: drop-shadow(0px 1px 2px rgba(0, 0, 0, 0.3));\n",
              "      fill: #FFFFFF;\n",
              "    }\n",
              "  </style>\n",
              "\n",
              "      <script>\n",
              "        const buttonEl =\n",
              "          document.querySelector('#df-d1ccf9ff-559f-4145-8da0-ed872e895938 button.colab-df-convert');\n",
              "        buttonEl.style.display =\n",
              "          google.colab.kernel.accessAllowed ? 'block' : 'none';\n",
              "\n",
              "        async function convertToInteractive(key) {\n",
              "          const element = document.querySelector('#df-d1ccf9ff-559f-4145-8da0-ed872e895938');\n",
              "          const dataTable =\n",
              "            await google.colab.kernel.invokeFunction('convertToInteractive',\n",
              "                                                     [key], {});\n",
              "          if (!dataTable) return;\n",
              "\n",
              "          const docLinkHtml = 'Like what you see? Visit the ' +\n",
              "            '<a target=\"_blank\" href=https://colab.research.google.com/notebooks/data_table.ipynb>data table notebook</a>'\n",
              "            + ' to learn more about interactive tables.';\n",
              "          element.innerHTML = '';\n",
              "          dataTable['output_type'] = 'display_data';\n",
              "          await google.colab.output.renderOutput(dataTable, element);\n",
              "          const docLink = document.createElement('div');\n",
              "          docLink.innerHTML = docLinkHtml;\n",
              "          element.appendChild(docLink);\n",
              "        }\n",
              "      </script>\n",
              "    </div>\n",
              "  </div>\n",
              "  "
            ]
          },
          "metadata": {},
          "execution_count": 18
        }
      ],
      "source": [
        "mean_accuracy = cv_df.groupby('model_name').accuracy.mean()\n",
        "std_accuracy = cv_df.groupby('model_name').accuracy.std()\n",
        "\n",
        "acc = pd.concat([mean_accuracy, std_accuracy], axis= 1, \n",
        "          ignore_index=True)\n",
        "acc.columns = ['Mean Accuracy', 'Standard deviation']\n",
        "acc"
      ]
    },
    {
      "cell_type": "code",
      "execution_count": null,
      "id": "9ee3f58e",
      "metadata": {
        "execution": {
          "iopub.execute_input": "2021-11-23T02:22:02.536427Z",
          "iopub.status.busy": "2021-11-23T02:22:02.535575Z",
          "iopub.status.idle": "2021-11-23T02:22:02.778210Z",
          "shell.execute_reply": "2021-11-23T02:22:02.778628Z",
          "shell.execute_reply.started": "2021-11-23T01:54:39.004075Z"
        },
        "papermill": {
          "duration": 0.274111,
          "end_time": "2021-11-23T02:22:02.778770",
          "exception": false,
          "start_time": "2021-11-23T02:22:02.504659",
          "status": "completed"
        },
        "tags": [],
        "colab": {
          "base_uri": "https://localhost:8080/",
          "height": 385
        },
        "id": "9ee3f58e",
        "outputId": "612fe48f-86dc-4c04-a232-492f0fc0fda2"
      },
      "outputs": [
        {
          "output_type": "execute_result",
          "data": {
            "text/plain": [
              "Text(0.5, 1.0, 'MEAN ACCURACY (cv = 5)\\n')"
            ]
          },
          "metadata": {},
          "execution_count": 19
        },
        {
          "output_type": "display_data",
          "data": {
            "text/plain": [
              "<Figure size 576x360 with 1 Axes>"
            ],
            "image/png": "[encoded data removed]"
          },
          "metadata": {
            "needs_background": "light"
          }
        }
      ],
      "source": [
        "plt.figure(figsize=(8,5))\n",
        "sns.boxplot(x='model_name', y='accuracy', \n",
        "            data=cv_df, \n",
        "            color='lightblue', \n",
        "            showmeans=True)\n",
        "plt.title(\"MEAN ACCURACY (cv = 5)\\n\", size=14)"
      ]
    },
    {
      "cell_type": "code",
      "execution_count": null,
      "id": "d4673e22",
      "metadata": {
        "execution": {
          "iopub.execute_input": "2021-11-23T02:22:02.833168Z",
          "iopub.status.busy": "2021-11-23T02:22:02.831927Z",
          "iopub.status.idle": "2021-11-23T02:23:36.453986Z",
          "shell.execute_reply": "2021-11-23T02:23:36.455151Z",
          "shell.execute_reply.started": "2021-11-23T01:56:18.465198Z"
        },
        "papermill": {
          "duration": 93.653159,
          "end_time": "2021-11-23T02:23:36.455397",
          "exception": false,
          "start_time": "2021-11-23T02:22:02.802238",
          "status": "completed"
        },
        "tags": [],
        "colab": {
          "base_uri": "https://localhost:8080/"
        },
        "id": "d4673e22",
        "outputId": "31039a87-478d-459a-d1a5-c0803f941581"
      },
      "outputs": [
        {
          "output_type": "stream",
          "name": "stderr",
          "text": [
            "/usr/local/lib/python3.7/dist-packages/sklearn/linear_model/_logistic.py:818: ConvergenceWarning: lbfgs failed to converge (status=1):\n",
            "STOP: TOTAL NO. of ITERATIONS REACHED LIMIT.\n",
            "\n",
            "Increase the number of iterations (max_iter) or scale the data as shown in:\n",
            "    https://scikit-learn.org/stable/modules/preprocessing.html\n",
            "Please also refer to the documentation for alternative solver options:\n",
            "    https://scikit-learn.org/stable/modules/linear_model.html#logistic-regression\n",
            "  extra_warning_msg=_LOGISTIC_SOLVER_CONVERGENCE_MSG,\n"
          ]
        }
      ],
      "source": [
        "X_train, X_test, y_train, y_test,indices_train,indices_test = train_test_split(features, \n",
        "                                                               labels, \n",
        "                                                               df2.index, test_size=0.25, \n",
        "                                                               random_state=1)\n",
        "model = LogisticRegression(random_state=0)\n",
        "model.fit(X_train, y_train)\n",
        "y_pred = model.predict(X_test)"
      ]
    },
    {
      "cell_type": "code",
      "execution_count": null,
      "id": "d7990a2e",
      "metadata": {
        "execution": {
          "iopub.execute_input": "2021-11-23T02:23:36.596797Z",
          "iopub.status.busy": "2021-11-23T02:23:36.595990Z",
          "iopub.status.idle": "2021-11-23T02:23:36.609381Z",
          "shell.execute_reply": "2021-11-23T02:23:36.610329Z",
          "shell.execute_reply.started": "2021-11-23T01:59:34.233472Z"
        },
        "papermill": {
          "duration": 0.070418,
          "end_time": "2021-11-23T02:23:36.610515",
          "exception": false,
          "start_time": "2021-11-23T02:23:36.540097",
          "status": "completed"
        },
        "tags": [],
        "colab": {
          "base_uri": "https://localhost:8080/"
        },
        "id": "d7990a2e",
        "outputId": "a2cd2f0d-ea89-47f2-c3a0-2b3ac8a810c8"
      },
      "outputs": [
        {
          "output_type": "stream",
          "name": "stdout",
          "text": [
            "\t\t\t\tCLASSIFICATIION METRICS\n",
            "\n",
            "               precision    recall  f1-score   support\n",
            "\n",
            "        cited       0.87      0.97      0.92       589\n",
            "     followed       0.85      0.87      0.86       115\n",
            "  referred to       0.92      0.94      0.93       231\n",
            "    discussed       0.98      0.80      0.88        69\n",
            "      applied       0.98      0.81      0.89       100\n",
            "   considered       0.92      0.72      0.81       100\n",
            "     affirmed       0.00      0.00      0.00         6\n",
            "      related       1.00      0.83      0.91         6\n",
            "distinguished       1.00      0.56      0.72        34\n",
            "\n",
            "     accuracy                           0.90      1250\n",
            "    macro avg       0.84      0.72      0.77      1250\n",
            " weighted avg       0.90      0.90      0.89      1250\n",
            "\n"
          ]
        },
        {
          "output_type": "stream",
          "name": "stderr",
          "text": [
            "/usr/local/lib/python3.7/dist-packages/sklearn/metrics/_classification.py:1318: UndefinedMetricWarning: Precision and F-score are ill-defined and being set to 0.0 in labels with no predicted samples. Use `zero_division` parameter to control this behavior.\n",
            "  _warn_prf(average, modifier, msg_start, len(result))\n",
            "/usr/local/lib/python3.7/dist-packages/sklearn/metrics/_classification.py:1318: UndefinedMetricWarning: Precision and F-score are ill-defined and being set to 0.0 in labels with no predicted samples. Use `zero_division` parameter to control this behavior.\n",
            "  _warn_prf(average, modifier, msg_start, len(result))\n",
            "/usr/local/lib/python3.7/dist-packages/sklearn/metrics/_classification.py:1318: UndefinedMetricWarning: Precision and F-score are ill-defined and being set to 0.0 in labels with no predicted samples. Use `zero_division` parameter to control this behavior.\n",
            "  _warn_prf(average, modifier, msg_start, len(result))\n"
          ]
        }
      ],
      "source": [
        "print('\\t\\t\\t\\tCLASSIFICATIION METRICS\\n')\n",
        "print(metrics.classification_report(y_test, y_pred, \n",
        "                                    target_names= df2['Outcome'].unique()))"
      ]
    },
    {
      "cell_type": "code",
      "execution_count": null,
      "id": "cb7ac67c",
      "metadata": {
        "execution": {
          "iopub.execute_input": "2021-11-23T02:23:36.697925Z",
          "iopub.status.busy": "2021-11-23T02:23:36.697012Z",
          "iopub.status.idle": "2021-11-23T02:23:37.384876Z",
          "shell.execute_reply": "2021-11-23T02:23:37.385316Z",
          "shell.execute_reply.started": "2021-11-23T02:01:37.990319Z"
        },
        "papermill": {
          "duration": 0.734951,
          "end_time": "2021-11-23T02:23:37.385459",
          "exception": false,
          "start_time": "2021-11-23T02:23:36.650508",
          "status": "completed"
        },
        "tags": [],
        "colab": {
          "base_uri": "https://localhost:8080/",
          "height": 590
        },
        "id": "cb7ac67c",
        "outputId": "028b3dfe-25d4-43e5-d3cc-0cff4bed7e72"
      },
      "outputs": [
        {
          "output_type": "display_data",
          "data": {
            "text/plain": [
              "<Figure size 576x576 with 2 Axes>"
            ],
            "image/png": "[encoded data removed]"
          },
          "metadata": {
            "needs_background": "light"
          }
        }
      ],
      "source": [
        "conf_mat = confusion_matrix(y_test, y_pred)\n",
        "fig, ax = plt.subplots(figsize=(8,8))\n",
        "sns.heatmap(conf_mat, annot=True, cmap=\"Blues\", fmt='d',\n",
        "            xticklabels=category_id_df.Outcome.values, \n",
        "            yticklabels=category_id_df.Outcome.values)\n",
        "plt.ylabel('Actual')\n",
        "plt.xlabel('Predicted')\n",
        "plt.title(\"CONFUSION MATRIX - LogisticRegression\\n\", size=16);"
      ]
    },
    {
      "cell_type": "code",
      "execution_count": null,
      "id": "c1735c70",
      "metadata": {
        "papermill": {
          "duration": 0.024381,
          "end_time": "2021-11-23T02:23:37.434959",
          "exception": false,
          "start_time": "2021-11-23T02:23:37.410578",
          "status": "completed"
        },
        "tags": [],
        "id": "c1735c70"
      },
      "outputs": [],
      "source": [
        ""
      ]
    }
  ],
  "metadata": {
    "kernelspec": {
      "display_name": "Python 3",
      "language": "python",
      "name": "python3"
    },
    "language_info": {
      "codemirror_mode": {
        "name": "ipython",
        "version": 3
      },
      "file_extension": ".py",
      "mimetype": "text/x-python",
      "name": "python",
      "nbconvert_exporter": "python",
      "pygments_lexer": "ipython3",
      "version": "3.7.10"
    },
    "papermill": {
      "default_parameters": {},
      "duration": 661.632139,
      "end_time": "2021-11-23T02:23:38.170471",
      "environment_variables": {},
      "exception": null,
      "input_path": "__notebook__.ipynb",
      "output_path": "__notebook__.ipynb",
      "parameters": {},
      "start_time": "2021-11-23T02:12:36.538332",
      "version": "2.3.3"
    },
    "colab": {
      "name": "Vakeel _Saab_ML_part2.ipynb",
      "provenance": [],
      "include_colab_link": true
    }
  },
  "nbformat": 4,
  "nbformat_minor": 5
}